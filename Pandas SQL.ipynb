{
 "cells": [
  {
   "cell_type": "markdown",
   "id": "954ee23a",
   "metadata": {},
   "source": [
    "# Estudos sobre SQL x Pandas SQL"
   ]
  },
  {
   "cell_type": "markdown",
   "id": "3921cd5d",
   "metadata": {},
   "source": [
    "## 1. Introdução:"
   ]
  },
  {
   "cell_type": "markdown",
   "id": "1cd06ced",
   "metadata": {},
   "source": [
    "<img src = \"https://cdn.filestackcontent.com/GgTFAbNTtiA09pWpwLAz\" width=\"350\" align=left> \n",
    "\n",
    "<br>\n",
    "\n",
    "<img src = \"https://www.kdnuggets.com/wp-content/uploads/c_sql_pandas_pandasql_5.png\"  width=\"350\" align = right>"
   ]
  },
  {
   "cell_type": "markdown",
   "id": "f817821e",
   "metadata": {},
   "source": [
    "Neste notebook vai ser abordado uma análise de dados (EDA) utilizando Pyhton (pandas) e PandaSQL (uma biblioteca que utiliza como backend o SQLite), mostrando as diferentes linhas de códigos entre elas as quais acabam chegando ao mesmo resultado!!\n",
    "\n",
    "Para isto, será utilizado o banco de dados sobre Comportamento do Consumidor e seus hábitos de compras da plataforma Kaggle (www.kaggle.com), disponível para download aqui: *https://www.kaggle.com/datasets/zeesolver/consumer-behavior-and-shopping-habits-dataset?select=shopping_trends.csv*\n",
    "\n",
    "A motivação desta análise consistiu em entender quais são os principais produtos comprados pelo consumidor, **buscando, com isso, nortear estratégias de marketings para as marcas e produtos, visando um aumento nas vendas e em sua receita!**\n",
    "\n",
    "Para isso, será buscado responder algumas perguntas de negócios:\n",
    "\n",
    "    - Qual é a distribuição demográfica dos clientes em termos de idade e gênero?\n",
    "    \n",
    "    - Os usuários masculinos costumam gastar mais em relação aos femininos?\n",
    "    \n",
    "    - Qual é o item mais comprado em cada categoria entre os diferentes gêneros dos usuários?\n",
    "    \n",
    "    - Há uma tendência específica de cor e de tipo de itens nas compras em relação ao tipo de Coleção?    \n",
    " \n",
    "    - Os clientes que usam códigos promocionais têm maior propensão à assinatura?\n",
    "    \n",
    "    - Os clientes que usam códigos promocionais tendem a gastar mais?\n",
    "    \n",
    "    - Qual a predileção de produtos comprados pelos jovens (entre 18 e 25 anos) em relação aos adultos (maior que 25 anos)? Esta predileção varia em relação ao gênero?\n",
    "    \n",
    "    - Qual é o perfil de compra dos usuários não assinantes em relação àqueles que são assinantes? \n",
    "\n"
   ]
  },
  {
   "cell_type": "markdown",
   "id": "57573265",
   "metadata": {},
   "source": [
    "O dataset possui as seguintes colunas:\n",
    "\n",
    "**Customer ID**:O identificador de cada usuário.\n",
    "\n",
    "**Age**: A idade do usuário.\n",
    "\n",
    "**Gender**: O gênero do usuário.\n",
    "\n",
    "**Item Purchased**: O produto específico comprado.\n",
    "\n",
    "**Category**: A categoria ou o tipo do departamento que o produto faz parte.\n",
    "\n",
    "**Purchase Amount (USD)**: O valor do produto.\n",
    "\n",
    "**Location**: Estado onde ocorreu a compra do produto.\n",
    "\n",
    "**Size**: O tamanho ou manequim do produto.\n",
    "\n",
    "**Color**: A variante de cor do produto.\n",
    "\n",
    "**Season**: A coleção do produto.\n",
    "\n",
    "**Review Rating**: O valor de satisfação do cliente em relação ao produto.\n",
    "\n",
    "**Subscription Status**: A opção do cliente por um serviço de assinatura (sim/não).\n",
    "\n",
    "**Shipping Type**: Tipo de entrega do produto.\n",
    "\n",
    "**Discount Applied**: Aplicação de desconto na compra do produto (sim/não).\n",
    "\n",
    "**Promo Code Used**: Aplicação de um código promocional (sim/não).\n",
    "\n",
    "**Previous Purchases**: Informa o número de vezes que o usuário comprou algo na loja.\n",
    "\n",
    "**Payment Method**: Forma de pagamento realizada na compra do produto.\n",
    "\n",
    "**Frequency of Purchases**: Indica a frequencia do usuário na compra de produtos."
   ]
  },
  {
   "cell_type": "markdown",
   "id": "5f519a96",
   "metadata": {},
   "source": [
    "## 2. Análise Inicial de dados:"
   ]
  },
  {
   "cell_type": "markdown",
   "id": "2d6b11c0",
   "metadata": {},
   "source": [
    "### Importação das bibliotecas"
   ]
  },
  {
   "cell_type": "code",
   "execution_count": null,
   "id": "73c60bdc",
   "metadata": {},
   "outputs": [],
   "source": [
    "import pandas as pd\n",
    "import os\n",
    "import numpy as np\n",
    "\n",
    "#%pip install pandasql\n",
    "import pandasql as ps\n",
    "\n",
    "import warnings\n",
    "warnings.filterwarnings(\"ignore\")"
   ]
  },
  {
   "cell_type": "markdown",
   "id": "c0da0a97",
   "metadata": {},
   "source": [
    "### Leitura do dataset"
   ]
  },
  {
   "cell_type": "code",
   "execution_count": null,
   "id": "0003b9f9",
   "metadata": {},
   "outputs": [],
   "source": [
    "path = (r'C:\\Users\\maced\\Desktop\\Mentoria Anwar\\Portifólio\\Projeto_shopping')\n",
    "\n",
    "os.chdir(path)\n",
    "\n",
    "os.listdir()\n"
   ]
  },
  {
   "cell_type": "code",
   "execution_count": null,
   "id": "4067e743",
   "metadata": {},
   "outputs": [],
   "source": [
    "# Leitura dos datasets\n",
    "df = pd.read_csv('shopping_behavior_updated.csv')"
   ]
  },
  {
   "cell_type": "markdown",
   "id": "66a316ef",
   "metadata": {},
   "source": [
    "**Com o intuito de aplicar os conhecimentos de SQL em tabelas relacionais, por meio do Pandasql, irei dividir o dataframe a cima em dois resguardando a coluna \"Costumer ID\"!:** \n",
    "\n",
    "    - df_prod \n",
    "    \n",
    "    - df_info "
   ]
  },
  {
   "cell_type": "code",
   "execution_count": null,
   "id": "fff2fda0",
   "metadata": {},
   "outputs": [],
   "source": [
    "df.columns"
   ]
  },
  {
   "cell_type": "code",
   "execution_count": null,
   "id": "cd12eee0",
   "metadata": {},
   "outputs": [],
   "source": [
    "df_prod = df[['Customer ID', 'Age', 'Gender', 'Item Purchased', 'Category','Purchase Amount (USD)']]\n",
    "\n",
    "df_info = df[['Customer ID','Location', 'Size', 'Color', 'Season',\n",
    "       'Review Rating', 'Subscription Status', 'Shipping Type',\n",
    "       'Discount Applied', 'Promo Code Used', 'Previous Purchases',\n",
    "       'Payment Method', 'Frequency of Purchases']]"
   ]
  },
  {
   "cell_type": "markdown",
   "id": "61e8cc02",
   "metadata": {},
   "source": [
    "### Exploração dos datasets"
   ]
  },
  {
   "cell_type": "code",
   "execution_count": null,
   "id": "264ccaa0",
   "metadata": {},
   "outputs": [],
   "source": [
    "df_prod.head()"
   ]
  },
  {
   "cell_type": "code",
   "execution_count": null,
   "id": "8d1dd975",
   "metadata": {},
   "outputs": [],
   "source": [
    "print(f\"O dataset apresenta {df_prod.shape[0]} linhas e {df_prod.shape[1]} colunas!\")"
   ]
  },
  {
   "cell_type": "code",
   "execution_count": null,
   "id": "9c1b527d",
   "metadata": {},
   "outputs": [],
   "source": [
    "df_prod.info()"
   ]
  },
  {
   "cell_type": "markdown",
   "id": "de91ba0e",
   "metadata": {},
   "source": [
    "    - O dataframe não apresenta valores nulos a serem tratados!"
   ]
  },
  {
   "cell_type": "code",
   "execution_count": null,
   "id": "2f2a34b9",
   "metadata": {},
   "outputs": [],
   "source": [
    "df_info.head()"
   ]
  },
  {
   "cell_type": "code",
   "execution_count": null,
   "id": "ca6ee643",
   "metadata": {},
   "outputs": [],
   "source": [
    "\n",
    "print(f\"O dataset apresenta {df_info.shape[0]} linhas e {df_info.shape[1]} colunas!\")"
   ]
  },
  {
   "cell_type": "code",
   "execution_count": null,
   "id": "21810aa3",
   "metadata": {},
   "outputs": [],
   "source": [
    "df_info.info()"
   ]
  },
  {
   "cell_type": "markdown",
   "id": "8d9a73a7",
   "metadata": {},
   "source": [
    "    - O dataframe não apresenta valores nulos a serem tratados!"
   ]
  },
  {
   "cell_type": "markdown",
   "id": "46030a8a",
   "metadata": {},
   "source": [
    "### Tratamento dos dados:"
   ]
  },
  {
   "cell_type": "markdown",
   "id": "194185b1",
   "metadata": {},
   "source": [
    "#### Renomear as colunas do DF: \n",
    "    - Substituir os espaços vazios entre o nome das variáveis por '_' para facilitar a leitura das colunas:"
   ]
  },
  {
   "cell_type": "code",
   "execution_count": null,
   "id": "840dd9ba",
   "metadata": {},
   "outputs": [],
   "source": [
    "df_prod.columns = [coluna.replace(' ', '_') for coluna in df_prod.columns.values.tolist()]\n",
    "df_prod.columns"
   ]
  },
  {
   "cell_type": "code",
   "execution_count": null,
   "id": "8a7b0de9",
   "metadata": {},
   "outputs": [],
   "source": [
    "df_info.columns = [coluna.replace(' ', '_') for coluna in df_info.columns.values.tolist()]\n",
    "df_info.columns"
   ]
  },
  {
   "cell_type": "code",
   "execution_count": null,
   "id": "eaa4aaca",
   "metadata": {},
   "outputs": [],
   "source": [
    "df_prod.head(10)"
   ]
  },
  {
   "cell_type": "code",
   "execution_count": null,
   "id": "ef5cfe93",
   "metadata": {},
   "outputs": [],
   "source": [
    "df_info.head(10)"
   ]
  },
  {
   "cell_type": "markdown",
   "id": "b892b0e0",
   "metadata": {},
   "source": [
    "#### Criação de duas cópias do dataframe:\n",
    "    df_info_pandas = dataframe utilizado para aplicar os códigos em Pandas\n",
    "    df_prod_pandas = dataframe utilizado para aplicar os códigos em Pandas\n",
    "    \n",
    "    \n",
    "    df_info = dataframe utilizado para aplicar os códigos em SQL\n",
    "    df_prod = dataframe utilizado para aplicar os códigos em SQL"
   ]
  },
  {
   "cell_type": "code",
   "execution_count": null,
   "id": "a8445208",
   "metadata": {},
   "outputs": [],
   "source": [
    "df_info_pandas = df_info.copy()\n",
    "\n",
    "df_info_pandas.head(10)"
   ]
  },
  {
   "cell_type": "code",
   "execution_count": null,
   "id": "adeb6972",
   "metadata": {},
   "outputs": [],
   "source": [
    "df_prod_pandas = df_prod.copy()\n",
    "\n",
    "df_prod_pandas.head(10)"
   ]
  },
  {
   "cell_type": "code",
   "execution_count": null,
   "id": "69c6b213",
   "metadata": {},
   "outputs": [],
   "source": [
    "df_info.head(10)"
   ]
  },
  {
   "cell_type": "code",
   "execution_count": null,
   "id": "c383ec70",
   "metadata": {},
   "outputs": [],
   "source": [
    "df_prod.head(10)"
   ]
  },
  {
   "cell_type": "markdown",
   "id": "5b6f6283",
   "metadata": {},
   "source": [
    "A seguir será realizado uma comparação dos comandos entre o Pandas x SQL que chegam ao mesmo objetivo!"
   ]
  },
  {
   "cell_type": "markdown",
   "id": "3cf775c2",
   "metadata": {},
   "source": [
    "####  Modificação dos niveis da variável \"Frequency_of_Purchases\":"
   ]
  },
  {
   "cell_type": "markdown",
   "id": "2788d67f",
   "metadata": {},
   "source": [
    " **Código em Pandas:**"
   ]
  },
  {
   "cell_type": "code",
   "execution_count": null,
   "id": "8fac41d8",
   "metadata": {},
   "outputs": [],
   "source": [
    "df_info_pandas['Frequency_of_Purchases'].unique()"
   ]
  },
  {
   "cell_type": "markdown",
   "id": "bdd98a14",
   "metadata": {},
   "source": [
    "Fortnightly = quinzenal\n",
    "\n",
    "Weekly = semanal\n",
    "\n",
    "Annually = anual\n",
    "\n",
    "\n",
    "Quarterly = trimestral\n",
    "\n",
    "\n",
    "Bi-Weekly = duas vezes por semana\n",
    "\n",
    "\n",
    "Monthly = mensalmente\n",
    "\n",
    "\n",
    "Every 3 Months = a cada tres meses"
   ]
  },
  {
   "cell_type": "code",
   "execution_count": null,
   "id": "8b453180",
   "metadata": {},
   "outputs": [],
   "source": [
    "df_info_pandas[\"Frequency_of_Purchases\"] = df_info_pandas[\"Frequency_of_Purchases\"].map({'Fortnightly' : 'Quinzenal', \n",
    "                                        'Weekly' : 'Semanalmente', 'Annually' : 'Anualmente',\n",
    "     'Quarterly' : 'Trimestralmente', 'Bi-Weekly' : 'Duas vezes por semana',\n",
    "     'Monthly' : 'Mensalmente', 'Every 3 Months' : 'A cada tres meses'})\n",
    "\n",
    "df_info_pandas['Frequency_of_Purchases'].unique()"
   ]
  },
  {
   "cell_type": "markdown",
   "id": "a91ca350",
   "metadata": {},
   "source": [
    "**Código em SQL:**"
   ]
  },
  {
   "cell_type": "code",
   "execution_count": null,
   "id": "a08a91c8",
   "metadata": {},
   "outputs": [],
   "source": [
    "query_00 = \"\"\"\n",
    "SELECT\n",
    "    DISTINCT Frequency_of_Purchases\n",
    "FROM df_info\n",
    "\"\"\"\n",
    "\n",
    "ps.sqldf(query_00)\n"
   ]
  },
  {
   "cell_type": "code",
   "execution_count": null,
   "id": "26ae742b",
   "metadata": {},
   "outputs": [],
   "source": [
    "query_01 = \"\"\"\n",
    "SELECT \n",
    "    CASE \n",
    "        WHEN df_info.Frequency_of_Purchases = 'Fortnightly' THEN 'Quinzenal'\n",
    "        WHEN df_info.Frequency_of_Purchases = 'Weekly' THEN 'Semanalmente'\n",
    "        WHEN df_info.Frequency_of_Purchases = 'Annually' THEN 'Anualmente'\n",
    "        WHEN df_info.Frequency_of_Purchases = 'Quarterly' THEN 'Trimestralmente'\n",
    "        WHEN df_info.Frequency_of_Purchases = 'Bi-Weekly' THEN \"Duas vezes por semana\"\n",
    "        WHEN df_info.Frequency_of_Purchases = 'Monthly' THEN 'Mensalmente'\n",
    "        WHEN df_info.Frequency_of_Purchases = 'Every 3 Months' THEN 'A cada tres meses'\n",
    "        END AS Frequency_of_Purchases\n",
    "FROM df_info\n",
    "\"\"\"\n",
    "ps.sqldf(query_01)"
   ]
  },
  {
   "cell_type": "markdown",
   "id": "8360287a",
   "metadata": {},
   "source": [
    "####  União de dois dataframes: baseado na coluna 'Customer_ID'"
   ]
  },
  {
   "cell_type": "markdown",
   "id": "64d69d96",
   "metadata": {},
   "source": [
    "**Código em Pandas**"
   ]
  },
  {
   "cell_type": "code",
   "execution_count": null,
   "id": "5bdc79bf",
   "metadata": {},
   "outputs": [],
   "source": [
    "df_users_pandas = pd.merge(df_prod_pandas, df_info_pandas, how = 'inner', on = 'Customer_ID')\n",
    "\n",
    "df_users_pandas.head(10)"
   ]
  },
  {
   "cell_type": "markdown",
   "id": "2a7bfb15",
   "metadata": {},
   "source": [
    "**Código em SQL**"
   ]
  },
  {
   "cell_type": "code",
   "execution_count": null,
   "id": "0603e311",
   "metadata": {},
   "outputs": [],
   "source": [
    "query = \"\"\" \n",
    "SELECT df_info.*,\n",
    "       df_prod.Age,\n",
    "       df_prod.Gender,\n",
    "       df_prod.Item_Purchased,\n",
    "       df_prod.Category,\n",
    "       df_prod.'Purchase_Amount_(USD)'\n",
    "FROM df_prod\n",
    "INNER JOIN df_info\n",
    "ON df_prod.Customer_ID = df_info.Customer_ID\n",
    "\"\"\"\n",
    "ps.sqldf(query)"
   ]
  },
  {
   "cell_type": "markdown",
   "id": "5cc52d08",
   "metadata": {},
   "source": [
    "## 3. Análise Univariada:"
   ]
  },
  {
   "cell_type": "markdown",
   "id": "de5e22ad",
   "metadata": {},
   "source": [
    "### 3.1 Qual a distribuição da idade dos usuários?"
   ]
  },
  {
   "cell_type": "markdown",
   "id": "1396e54c",
   "metadata": {},
   "source": [
    "**Código em Pandas:**"
   ]
  },
  {
   "cell_type": "code",
   "execution_count": null,
   "id": "274642f0",
   "metadata": {},
   "outputs": [],
   "source": [
    "df_users_pandas[['Age']].describe().T.rename(columns={'count' : 'Quantidade de usuários',\n",
    "                                               'mean' : 'Média',\n",
    "                                               'std' : 'Desvio Padrão',\n",
    "                                               'min' : 'Valor mínimo',\n",
    "                                               'max' : 'Valor máximo'})"
   ]
  },
  {
   "cell_type": "markdown",
   "id": "5574834e",
   "metadata": {},
   "source": [
    "**Código em SQL:**"
   ]
  },
  {
   "cell_type": "code",
   "execution_count": null,
   "id": "0bec03c2",
   "metadata": {},
   "outputs": [],
   "source": [
    "df_query = \"\"\"SELECT COUNT(Age) as 'Quantidade de usuários', \n",
    "                     AVG(Age) as 'Média',\n",
    "                     MIN(Age) as 'Valor mínimo', \n",
    "                     MAX(Age) as 'Valor máximo' \n",
    "              FROM df_prod \"\"\"\n",
    "\n",
    "\n",
    "ps.sqldf(df_query)"
   ]
  },
  {
   "cell_type": "markdown",
   "id": "3f81c25b",
   "metadata": {},
   "source": [
    "- A média de idade dos usuários é de 44 anos! \n",
    "    \n",
    "\n",
    "####\n",
    "    \n",
    "- Além disto, os dados mostram que o valor do primeiro quartil ou percentil 25 (25%) é 31 anos, ou seja, cerca de 25% dos usuários possuem idade até 31 anos. E o valor do terceiro quartil ou percentil 75 é 57, ou seja, cerca de 75% dos usuários presente no banco de dados possuem até 57 anos."
   ]
  },
  {
   "cell_type": "markdown",
   "id": "da4fe59a",
   "metadata": {},
   "source": [
    "_______________"
   ]
  },
  {
   "cell_type": "markdown",
   "id": "b904ab0f",
   "metadata": {},
   "source": [
    "### 3.2 Qual a porcentagem de homens e mulheres?"
   ]
  },
  {
   "cell_type": "markdown",
   "id": "65161e0a",
   "metadata": {},
   "source": [
    "**Código em Pandas:**"
   ]
  },
  {
   "cell_type": "code",
   "execution_count": null,
   "id": "a2c7961e",
   "metadata": {},
   "outputs": [],
   "source": [
    "(df_users_pandas['Gender'].value_counts(1)*100).reset_index().rename(columns={'index' : 'Gênero', \n",
    "                                                                              'Gender' :\"Porcentagem (%)\"}) "
   ]
  },
  {
   "cell_type": "markdown",
   "id": "577e708b",
   "metadata": {},
   "source": [
    "**Código em SQL:**"
   ]
  },
  {
   "cell_type": "code",
   "execution_count": null,
   "id": "bba9c5ba",
   "metadata": {},
   "outputs": [],
   "source": [
    "df_query = \"\"\"\n",
    "SELECT \n",
    "    Gender as 'Gênero',\n",
    "   (COUNT(Gender)*100 / (SELECT COUNT(*) FROM df_prod)) as 'Porcentagem (%)'\n",
    "FROM df_prod\n",
    "GROUP BY Gênero /* Pode-se usar também o valor 1: que remete a numeração da posição da coluna: 1 = coluna 1(Gender)*/\n",
    "ORDER BY Gênero DESC\n",
    "\n",
    "\"\"\"\n",
    "\n",
    "\n",
    "ps.sqldf(df_query)"
   ]
  },
  {
   "cell_type": "markdown",
   "id": "6ea392a3",
   "metadata": {},
   "source": [
    "- Existem mais usuários homens do que mulheres, sendo os homens representando mais da metade de todos os usuários!"
   ]
  },
  {
   "cell_type": "markdown",
   "id": "51d1db2a",
   "metadata": {},
   "source": [
    "_______________"
   ]
  },
  {
   "cell_type": "markdown",
   "id": "f01658af",
   "metadata": {},
   "source": [
    "### 3.3 Quais são os item mais comprados?"
   ]
  },
  {
   "cell_type": "markdown",
   "id": "0f2bb162",
   "metadata": {},
   "source": [
    "**Código em Pandas:**"
   ]
  },
  {
   "cell_type": "code",
   "execution_count": null,
   "id": "091d835a",
   "metadata": {},
   "outputs": [],
   "source": [
    "df_users_pandas['Item_Purchased'].value_counts().reset_index().rename(columns={'Item_Purchased' : 'Quantidade de itens',\n",
    "                                                                              'index' : 'Itens comprados'}).\\\n",
    "sort_values(by='Quantidade de itens', ascending=False)"
   ]
  },
  {
   "cell_type": "markdown",
   "id": "3215e26b",
   "metadata": {},
   "source": [
    "**Código em SQL:**"
   ]
  },
  {
   "cell_type": "code",
   "execution_count": null,
   "id": "b6201810",
   "metadata": {},
   "outputs": [],
   "source": [
    "df_query1 = \"\"\"\n",
    "SELECT \n",
    "    Item_Purchased as 'Itens comprados',\n",
    "    COUNT(*) as 'Quantidade de itens'\n",
    "FROM df_prod\n",
    "GROUP BY \"Itens comprados\"\n",
    "ORDER BY \"Quantidade de itens\" DESC\n",
    "\n",
    "\"\"\"\n",
    "\n",
    "ps.sqldf(df_query1)"
   ]
  },
  {
   "cell_type": "markdown",
   "id": "9bd3413e",
   "metadata": {},
   "source": [
    "- Os principais itens mais comprados são Blusas, Jóias e Calças com quantitativos iguais, seguidos por Camisetas e Vestidos!\n",
    "\n",
    "<j>\n",
    "\n",
    "- Enquanto que Lucas e Jeans são os menos comprados!   "
   ]
  },
  {
   "cell_type": "markdown",
   "id": "1c22145d",
   "metadata": {},
   "source": [
    "_______________"
   ]
  },
  {
   "cell_type": "markdown",
   "id": "e6ae0386",
   "metadata": {},
   "source": [
    "### 3.4 Qual categoria de item mais comprada?"
   ]
  },
  {
   "cell_type": "markdown",
   "id": "f9a076f1",
   "metadata": {},
   "source": [
    "**Código em Pandas:**"
   ]
  },
  {
   "cell_type": "code",
   "execution_count": null,
   "id": "a62f6a00",
   "metadata": {},
   "outputs": [],
   "source": [
    "df_users_pandas['Category'].value_counts().reset_index().rename(columns={'Category' : 'Categoria do Item',\n",
    "                                                                         'count' :'Quantidade de itens'}).\\\n",
    "sort_values(by='Quantidade de itens',ascending=False)"
   ]
  },
  {
   "cell_type": "markdown",
   "id": "fe29e265",
   "metadata": {},
   "source": [
    "**Código em SQL:**"
   ]
  },
  {
   "cell_type": "code",
   "execution_count": null,
   "id": "080eb9e3",
   "metadata": {},
   "outputs": [],
   "source": [
    "df_query2 = \"\"\"\n",
    "SELECT Category AS 'Categoria do Item',\n",
    "       COUNT(*) AS 'Quantidade de itens'\n",
    "FROM df_prod\n",
    "GROUP BY \"Categoria do Item\"\n",
    "ORDER BY \"Quantidade de itens\" DESC\n",
    "\n",
    "\"\"\"\n",
    "ps.sqldf(df_query2)"
   ]
  },
  {
   "cell_type": "markdown",
   "id": "95da3cc8",
   "metadata": {},
   "source": [
    "- Os itens mais comprados pelos usuários pertencem a categoria de Vestuários e Acessários"
   ]
  },
  {
   "cell_type": "markdown",
   "id": "1cbcfe6d",
   "metadata": {},
   "source": [
    "_______________"
   ]
  },
  {
   "cell_type": "markdown",
   "id": "16510c3a",
   "metadata": {},
   "source": [
    "### 3.5 Qual a média de gastos nos produtos pelos usuários?\n"
   ]
  },
  {
   "cell_type": "markdown",
   "id": "4481b465",
   "metadata": {},
   "source": [
    "**Código em Pandas:**"
   ]
  },
  {
   "cell_type": "code",
   "execution_count": null,
   "id": "0bd01747",
   "metadata": {},
   "outputs": [],
   "source": [
    "df_users_pandas[[\"Purchase_Amount_(USD)\"]].describe().T.rename(columns={'count' : 'Quantidade de usuários',\n",
    "                                               'mean' : \"Média (USD)\",\n",
    "                                               'std' : 'Desvio Padrão',\n",
    "                                               'min' : 'Valor mínimo (USD)',\n",
    "                                               'max' : 'Valor máximo (USD)'})"
   ]
  },
  {
   "cell_type": "markdown",
   "id": "35624acb",
   "metadata": {},
   "source": [
    "**Código em SQL:**"
   ]
  },
  {
   "cell_type": "code",
   "execution_count": null,
   "id": "eb04440a",
   "metadata": {},
   "outputs": [],
   "source": [
    "df_query3 = \"\"\"\n",
    "SELECT COUNT('Purchase_Amount_(USD)') as 'Quantidade de usuários',\n",
    "       MIN(\"Purchase_Amount_(USD)\") as 'Valor minimo (USD)',\n",
    "       AVG(\"Purchase_Amount_(USD)\") as 'Média (USD)',\n",
    "       MAX(\"Purchase_Amount_(USD)\") as 'Valor maximo (USD)'\n",
    "FROM df_prod\n",
    "\"\"\"\n",
    "\n",
    "ps.sqldf(df_query3)"
   ]
  },
  {
   "cell_type": "markdown",
   "id": "b9e49aa0",
   "metadata": {},
   "source": [
    " - Os usuários costumam gastar em média 59 dólares por produto, além disto, o menor gasto realizado pelos usuários é de 20 dólares e o maior de 100 dólares!"
   ]
  },
  {
   "cell_type": "markdown",
   "id": "ab2d2162",
   "metadata": {},
   "source": [
    "_______________"
   ]
  },
  {
   "cell_type": "markdown",
   "id": "d09b5159",
   "metadata": {},
   "source": [
    "### 3.6 Quais os estados que apresentam maior número de usuários?\n"
   ]
  },
  {
   "cell_type": "markdown",
   "id": "e0bd2530",
   "metadata": {},
   "source": [
    "**Código em Pandas:**"
   ]
  },
  {
   "cell_type": "code",
   "execution_count": null,
   "id": "24b6e829",
   "metadata": {},
   "outputs": [],
   "source": [
    "df_users_pandas['Location'].value_counts().reset_index().rename(columns={'Location' : 'Estado',\n",
    "                                                                        'count' : 'Quantidade de usuários'}).\\\n",
    "sort_values(by='Quantidade de usuários',ascending=False)"
   ]
  },
  {
   "cell_type": "markdown",
   "id": "50f1fb91",
   "metadata": {},
   "source": [
    "**Código em SQL:**"
   ]
  },
  {
   "cell_type": "code",
   "execution_count": null,
   "id": "5e4592d6",
   "metadata": {},
   "outputs": [],
   "source": [
    "df_query4 = \"\"\"\n",
    "SELECT Location as 'Estado', \n",
    "       COUNT(*) as 'Quantidade de usuários'\n",
    "FROM df_info\n",
    "GROUP BY Estado\n",
    "ORDER BY \"Quantidade de usuários\" DESC\n",
    "\n",
    "\"\"\"\n",
    "ps.sqldf(df_query4)"
   ]
  },
  {
   "cell_type": "markdown",
   "id": "e4496a14",
   "metadata": {},
   "source": [
    "- Os estados que possuem maior quantitativo de usuários são Montana, California, Idaho e Illinois, enquanto que os de menor quantitativos são Hawaii, Arizona, Rhode Island e Kansas!"
   ]
  },
  {
   "cell_type": "markdown",
   "id": "8aaff57f",
   "metadata": {},
   "source": [
    "_______________"
   ]
  },
  {
   "cell_type": "markdown",
   "id": "d0fbf06b",
   "metadata": {},
   "source": [
    "### 3.7 Qual a cor dos produtos mais comprada pelos usuários?\n"
   ]
  },
  {
   "cell_type": "markdown",
   "id": "9765bad0",
   "metadata": {},
   "source": [
    "**Código em Pandas:**"
   ]
  },
  {
   "cell_type": "code",
   "execution_count": null,
   "id": "1f7a296e",
   "metadata": {},
   "outputs": [],
   "source": [
    "df_users_pandas['Color'].value_counts().reset_index().rename(columns={'Color' : 'Cor',\n",
    "                                                                     'count' : 'Quantidade de Itens'}).\\\n",
    "sort_values(by='Quantidade de Itens',ascending=False)"
   ]
  },
  {
   "cell_type": "markdown",
   "id": "63683de9",
   "metadata": {},
   "source": [
    "**Código em SQL:**"
   ]
  },
  {
   "cell_type": "code",
   "execution_count": null,
   "id": "ac8955b4",
   "metadata": {},
   "outputs": [],
   "source": [
    "df_query5 = \"\"\"\n",
    "SELECT Color AS Cor,\n",
    "        COUNT(*) as 'Quantidade de Itens'\n",
    "FROM df_info\n",
    "GROUP BY Cor\n",
    "ORDER BY \"Quantidade de Itens\" DESC\n",
    "\"\"\"\n",
    "ps.sqldf(df_query5)"
   ]
  },
  {
   "cell_type": "markdown",
   "id": "a7d40f60",
   "metadata": {},
   "source": [
    "- Os usuários costumam comprar mais itens das cores Oliva, Amarela, Prata e Teal, que consiste de um azul-esverdeado, enquanto que Branco, Marrom e Dourado são as cores menos compradas pelos usuários!"
   ]
  },
  {
   "cell_type": "markdown",
   "id": "1af61ef6",
   "metadata": {},
   "source": [
    "_______________"
   ]
  },
  {
   "cell_type": "markdown",
   "id": "eaa11f78",
   "metadata": {},
   "source": [
    "### 3.8 Os usuários compram mais produtos de que coleção?\n"
   ]
  },
  {
   "cell_type": "markdown",
   "id": "e7a65dfc",
   "metadata": {},
   "source": [
    "**Código em Pandas:**"
   ]
  },
  {
   "cell_type": "code",
   "execution_count": null,
   "id": "5e67e9a0",
   "metadata": {},
   "outputs": [],
   "source": [
    "df_users_pandas['Season'].value_counts().reset_index().rename(columns={'Season' : 'Coleção',\n",
    "                                                             'count' : 'Quantidade de Itens'}).\\\n",
    "sort_values(by='Quantidade de Itens',ascending=False)"
   ]
  },
  {
   "cell_type": "markdown",
   "id": "052fef69",
   "metadata": {},
   "source": [
    "**Código em SQL:**"
   ]
  },
  {
   "cell_type": "code",
   "execution_count": null,
   "id": "b1c6d118",
   "metadata": {},
   "outputs": [],
   "source": [
    "df_query6 = \"\"\"\n",
    "SELECT Season AS 'Coleção',\n",
    "        COUNT(*) as 'Quantidade de Itens'\n",
    "FROM df_info\n",
    "GROUP BY Coleção\n",
    "ORDER BY \"Quantidade de Itens\" DESC\n",
    "\n",
    "\"\"\"\n",
    "ps.sqldf(df_query6)"
   ]
  },
  {
   "cell_type": "markdown",
   "id": "8b77b266",
   "metadata": {},
   "source": [
    " - Os usuários compram mais produtos pertencentes as coleções, respectivamente, de Primavera, Outono, Inverno e Verão!"
   ]
  },
  {
   "cell_type": "markdown",
   "id": "015cf36a",
   "metadata": {},
   "source": [
    "_______________"
   ]
  },
  {
   "cell_type": "markdown",
   "id": "c6af67cb",
   "metadata": {},
   "source": [
    "### 3.9 Qual a média dos reviews dos produtos feitos pelos usuários??\n"
   ]
  },
  {
   "cell_type": "markdown",
   "id": "8cb8a6e5",
   "metadata": {},
   "source": [
    "**Código em Pandas:**"
   ]
  },
  {
   "cell_type": "code",
   "execution_count": null,
   "id": "1dbf3a40",
   "metadata": {},
   "outputs": [],
   "source": [
    "df_users_pandas[['Review_Rating']].describe().T.rename(columns= {'count' : 'Quantidade de reviews feitos',\n",
    "                                               'mean' : \"Média de reviews\",\n",
    "                                               'std' : 'Desvio Padrão',\n",
    "                                               'min' : 'Menor review',\n",
    "                                               'max' : 'Maior review'}, index={'Review_Rating' : 'Reviews'})"
   ]
  },
  {
   "cell_type": "markdown",
   "id": "22caf218",
   "metadata": {},
   "source": [
    "**Código em SQL:**"
   ]
  },
  {
   "cell_type": "code",
   "execution_count": null,
   "id": "f7be040b",
   "metadata": {},
   "outputs": [],
   "source": [
    "df_query7 = \"\"\"\n",
    "SELECT COUNT(Review_Rating) as 'Número de reviews feitos',\n",
    "       MIN(Review_Rating) as 'Menor review',\n",
    "       AVG(Review_Rating) as 'Média de reviews',\n",
    "       MAX(Review_Rating) as 'Maior review'\n",
    "FROM df_info\n",
    "       \n",
    "\"\"\"\n",
    "ps.sqldf(df_query7)"
   ]
  },
  {
   "cell_type": "markdown",
   "id": "7e3e0c67",
   "metadata": {},
   "source": [
    "- A média dos reviews feitos pelos usuários aos produtos foi de 3.7!"
   ]
  },
  {
   "cell_type": "markdown",
   "id": "d78ad312",
   "metadata": {},
   "source": [
    "_______________"
   ]
  },
  {
   "cell_type": "markdown",
   "id": "9f30aff7",
   "metadata": {},
   "source": [
    "### 3.10 Qual a principal forma de pagamentos pelos usuários?\n"
   ]
  },
  {
   "cell_type": "markdown",
   "id": "48d1a714",
   "metadata": {},
   "source": [
    "**Código em Pandas:**"
   ]
  },
  {
   "cell_type": "code",
   "execution_count": null,
   "id": "fc50bb1a",
   "metadata": {},
   "outputs": [],
   "source": [
    "df_users_pandas['Payment_Method'].value_counts().reset_index().rename(columns={'Payment_Method' : 'Forma de pagamento',\n",
    "                                                                              'count' : 'Quantidade de usuários'}).\\\n",
    "sort_values(by='Quantidade de usuários',ascending=False)"
   ]
  },
  {
   "cell_type": "markdown",
   "id": "a0861eb9",
   "metadata": {},
   "source": [
    "**Código em SQL:**"
   ]
  },
  {
   "cell_type": "code",
   "execution_count": null,
   "id": "1bb98ff1",
   "metadata": {},
   "outputs": [],
   "source": [
    "df_query8 = \"\"\"\n",
    "SELECT Payment_Method as 'Forma de pagamento',\n",
    "        COUNT(*) as 'Quantidade de usuários'\n",
    "FROM df_info\n",
    "GROUP BY \"Forma de pagamento\"\n",
    "ORDER BY \"Quantidade de usuários\" DESC\n",
    "\n",
    "\"\"\"\n",
    "\n",
    "ps.sqldf(df_query8)"
   ]
  },
  {
   "cell_type": "markdown",
   "id": "ce902501",
   "metadata": {},
   "source": [
    " - A maioria dos usuários costuma pagar suas compras por meio do PayPal, cartão de crédito e em dinheiro, enquanto que a minoria costuma pagar pelo aplicativo de pagamento Venmo e por transferência bancária!"
   ]
  },
  {
   "cell_type": "markdown",
   "id": "ffd67588",
   "metadata": {},
   "source": [
    "_______________"
   ]
  },
  {
   "cell_type": "markdown",
   "id": "67061d75",
   "metadata": {},
   "source": [
    "### 3.11 Qual a média de compras passadas feitas pelos usuários?\n"
   ]
  },
  {
   "cell_type": "markdown",
   "id": "064a5930",
   "metadata": {},
   "source": [
    "**Código em Pandas:**"
   ]
  },
  {
   "cell_type": "code",
   "execution_count": null,
   "id": "73aa995c",
   "metadata": {},
   "outputs": [],
   "source": [
    "df_users_pandas[['Previous_Purchases']].describe().T.rename(columns={'count' : 'Quantidade de compras passadas realizadas',\n",
    "                                               'mean' : \"Média de compras passadas\",\n",
    "                                               'std' : 'Desvio Padrão',\n",
    "                                               'min' : 'Menor compra passada',\n",
    "                                               'max' : 'Maior compra passada'})"
   ]
  },
  {
   "cell_type": "markdown",
   "id": "7680ce02",
   "metadata": {},
   "source": [
    "**Código em SQL:**"
   ]
  },
  {
   "cell_type": "code",
   "execution_count": null,
   "id": "31231eca",
   "metadata": {},
   "outputs": [],
   "source": [
    "df_query9 = \"\"\"\n",
    "SELECT COUNT(Previous_Purchases) as \"Quantidade de compras passadas realizadas\",\n",
    "       MIN(Previous_Purchases) as \"Menor compra passada\",\n",
    "       AVG(Previous_Purchases) as \"Média de compras passadas\",\n",
    "       MAX(Previous_Purchases) as \"Maior compra passada\"\n",
    "FROM df_info\n",
    "\"\"\"\n",
    "\n",
    "ps.sqldf(df_query9)"
   ]
  },
  {
   "cell_type": "markdown",
   "id": "b0322e0f",
   "metadata": {},
   "source": [
    "- Os usuários costumam ter uma média de 25 produtos anteriores antes de comprar novos produtos!"
   ]
  },
  {
   "cell_type": "markdown",
   "id": "bb440f75",
   "metadata": {},
   "source": [
    "_______________"
   ]
  },
  {
   "cell_type": "markdown",
   "id": "1bf521dd",
   "metadata": {},
   "source": [
    "### 3.12 Com que frequencia os usuários realizaram compras?\n"
   ]
  },
  {
   "cell_type": "markdown",
   "id": "8c71940f",
   "metadata": {},
   "source": [
    "**Código em Pandas:**"
   ]
  },
  {
   "cell_type": "code",
   "execution_count": null,
   "id": "8157aada",
   "metadata": {},
   "outputs": [],
   "source": [
    "df_users_pandas['Frequency_of_Purchases'].value_counts().reset_index().rename(columns={'Frequency_of_Purchases' : 'Frequencia de compras dos usuários',\n",
    "                                                                                      'count' : 'Quantidade de compras'}).\\\n",
    "sort_values(by=\"Quantidade de compras\",ascending=False)"
   ]
  },
  {
   "cell_type": "markdown",
   "id": "864ef052",
   "metadata": {},
   "source": [
    "**Código em SQL:**"
   ]
  },
  {
   "cell_type": "code",
   "execution_count": null,
   "id": "a681be2b",
   "metadata": {},
   "outputs": [],
   "source": [
    "df_query10 = \"\"\" \n",
    "SELECT \n",
    "       CASE \n",
    "        WHEN df_info.Frequency_of_Purchases = 'Fortnightly' THEN 'Quinzenal'\n",
    "        WHEN df_info.Frequency_of_Purchases = 'Weekly' THEN 'Semanalmente'\n",
    "        WHEN df_info.Frequency_of_Purchases = 'Annually' THEN 'Anualmente'\n",
    "        WHEN df_info.Frequency_of_Purchases = 'Quarterly' THEN 'Trimestralmente'\n",
    "        WHEN df_info.Frequency_of_Purchases = 'Bi-Weekly' THEN \"Duas vezes por semana\"\n",
    "        WHEN df_info.Frequency_of_Purchases = 'Monthly' THEN 'Mensalmente'\n",
    "        WHEN df_info.Frequency_of_Purchases = 'Every 3 Months' THEN 'A cada tres meses'\n",
    "       END AS 'Frequencia de compras dos usuários',\n",
    "       COUNT(*) as 'Quantidade de compras'\n",
    "FROM df_info\n",
    "GROUP BY \"Frequencia de compras dos usuários\"\n",
    "ORDER BY \"Quantidade de compras\" DESC\n",
    "\n",
    " \n",
    "\"\"\"\n",
    "\n",
    "ps.sqldf(df_query10)"
   ]
  },
  {
   "cell_type": "markdown",
   "id": "f4721553",
   "metadata": {},
   "source": [
    "- A maioria dos usuários costumam realizar compras de produtos a cada tres meses, anualmente e trimestralmente. Enquanto que um menor numero deles costumam comprar quinzenalmente e semanalmente!"
   ]
  },
  {
   "cell_type": "markdown",
   "id": "388ddd63",
   "metadata": {},
   "source": [
    "_______________"
   ]
  },
  {
   "cell_type": "markdown",
   "id": "44aa8731",
   "metadata": {},
   "source": [
    "_______________"
   ]
  },
  {
   "cell_type": "markdown",
   "id": "e1048886",
   "metadata": {},
   "source": [
    "## 4. Respondendo perguntas de negócios:"
   ]
  },
  {
   "cell_type": "markdown",
   "id": "bda4b214",
   "metadata": {},
   "source": [
    "<img src= data:image/jpeg;base64,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>\n",
    "\n",
    "<br>\n",
    "<br>\n",
    "\n",
    "**Agora que já entendemos um pouco das variáveis que compõem nosso dataset, vamos buscar responder as perguntas de negócios realizadas no começo da análise:**"
   ]
  },
  {
   "cell_type": "markdown",
   "id": "0fbc2674",
   "metadata": {},
   "source": [
    "#### Pergunta 01: \n",
    "\n",
    "#### Qual é a distribuição demográfica dos clientes em termos de idade e gênero?"
   ]
  },
  {
   "cell_type": "markdown",
   "id": "3a789c19",
   "metadata": {},
   "source": [
    "**Código em Pandas:**"
   ]
  },
  {
   "cell_type": "code",
   "execution_count": null,
   "id": "09fbad6f",
   "metadata": {},
   "outputs": [],
   "source": [
    "df_users_pandas[['Age','Gender']].query('Gender == \"Male\"').describe().T.\\\n",
    "rename(columns={'count' : 'Quantidade',\n",
    "                'mean' : 'Média de idade',\n",
    "                'min' : 'Menor idade',\n",
    "                'max' : 'Maior idade'},\n",
    "      index={'Age' : 'Usuários masculinos'}) #observar a média dos usuários masculinos"
   ]
  },
  {
   "cell_type": "code",
   "execution_count": null,
   "id": "74d52fe6",
   "metadata": {},
   "outputs": [],
   "source": [
    "df_users_pandas[['Age','Gender']].query('Gender == \"Female\"').describe().T.\\\n",
    "rename(columns={'count' : 'Quantidade',\n",
    "                'mean' : 'Média de idade' ,\n",
    "                'min' : 'Menor idade',\n",
    "                'max' : 'Maior idade'},\n",
    "      index={'Age' : 'Usuárias femininas'}) #observar a média das usuárias femininas"
   ]
  },
  {
   "cell_type": "markdown",
   "id": "fc8530d3",
   "metadata": {},
   "source": [
    "**Código em SQL:**"
   ]
  },
  {
   "cell_type": "code",
   "execution_count": null,
   "id": "4f4b9b87",
   "metadata": {},
   "outputs": [],
   "source": [
    "df_query7 = \"\"\"\n",
    "SELECT CASE\n",
    "        WHEN Gender = 'Male' THEN 'Usuários masculinos' \n",
    "        END AS 'Gênero', \n",
    "       COUNT(Age) as \"Quantidade\",\n",
    "       MIN(Age) as \"Menor idade\",\n",
    "       AVG(Age) as \"Média de idade\",\n",
    "       MAX(Age) as \"Maior idade\"\n",
    "FROM df_prod\n",
    "WHERE LOWER(Gênero) = 'usuários masculinos' \n",
    "\n",
    "\"\"\"\n",
    "\n",
    "ps.sqldf(df_query7)"
   ]
  },
  {
   "cell_type": "code",
   "execution_count": null,
   "id": "b93af190",
   "metadata": {},
   "outputs": [],
   "source": [
    "df_query8= \"\"\"\n",
    "SELECT CASE\n",
    "        WHEN Gender = 'Female' THEN 'Usuárias femininas' \n",
    "        END AS 'Gênero',\n",
    "        COUNT(Age) as \"Quantidade\",\n",
    "        MIN(Age) as \"Menor idade\",\n",
    "        AVG(Age) as \"Média de idade\",\n",
    "        MAX(Age) as \"Maior idade\"\n",
    "FROM df_prod\n",
    "WHERE LOWER(Gênero) = 'usuárias femininas'\n",
    "\"\"\"\n",
    "ps.sqldf(df_query8)\n"
   ]
  },
  {
   "cell_type": "markdown",
   "id": "0de22f92",
   "metadata": {},
   "source": [
    "- De acordo com o dataset, os homens possuem um maior número de usuários em relação às mulheres. No entanto, ambos os gêneros dos usuários apresentam uma média de idade semelhante, 44 anos!"
   ]
  },
  {
   "cell_type": "markdown",
   "id": "8f080687",
   "metadata": {},
   "source": [
    "_________________"
   ]
  },
  {
   "cell_type": "markdown",
   "id": "8d72e11b",
   "metadata": {},
   "source": [
    "_________________"
   ]
  },
  {
   "cell_type": "markdown",
   "id": "5cefccd0",
   "metadata": {},
   "source": [
    "#### Pergunta 02:\n",
    "\n",
    "#### Os usuários masculinos costumam gastar mais em relação aos femininos? \n"
   ]
  },
  {
   "cell_type": "markdown",
   "id": "108d66ab",
   "metadata": {},
   "source": [
    "**Código em Pandas:**"
   ]
  },
  {
   "cell_type": "code",
   "execution_count": null,
   "id": "a76f1b07",
   "metadata": {},
   "outputs": [],
   "source": [
    "df_users_pandas[['Gender','Purchase_Amount_(USD)']].query('Gender == \"Male\"').describe().T.\\\n",
    "rename(columns={'count' : 'Quantidade de usuários masculinos',\n",
    "                'mean' : 'Média de gastos de usuários masculinos',\n",
    "                'min' : 'Gasto mínimo de usuários masculinos',\n",
    "                'max' : 'Gasto máximo de usuários masculinos'},\n",
    "        index={'Purchase_Amount_(USD)' : 'Gastos (USD)'})"
   ]
  },
  {
   "cell_type": "code",
   "execution_count": null,
   "id": "454c6302",
   "metadata": {},
   "outputs": [],
   "source": [
    "df_users_pandas[['Gender','Purchase_Amount_(USD)']].query('Gender == \"Female\"').describe().T.\\\n",
    "rename(columns={'count' : 'Quantidade de usuárias femininas',\n",
    "                'mean' : 'Média de gastos de usuárias femininas',\n",
    "                'min' : 'Gasto mínimo de usuárias femininas',\n",
    "                'max' : 'Gasto máximo de usuárias femininas'},\n",
    "        index={'Purchase_Amount_(USD)' : 'Gastos (USD)'})"
   ]
  },
  {
   "cell_type": "markdown",
   "id": "339b51e4",
   "metadata": {},
   "source": [
    "**Código em SQL:**"
   ]
  },
  {
   "cell_type": "code",
   "execution_count": null,
   "id": "7426e885",
   "metadata": {},
   "outputs": [],
   "source": [
    "df_query9 = \"\"\"\n",
    "SELECT Gender as 'Gênero',\n",
    "       COUNT('Purchase_Amount_(USD)') AS 'Quantidade de usuários masculinos',\n",
    "       AVG(\"Purchase_Amount_(USD)\") AS 'Média de gastos de usuários masculinos',\n",
    "       MIN(\"Purchase_Amount_(USD)\") AS 'Gasto mínimo de usuários masculinos',\n",
    "       MAX(\"Purchase_Amount_(USD)\") AS 'Gasto máximo de usuários masculinos'\n",
    "FROM df_prod\n",
    "WHERE UPPER(Gênero) = 'MALE'\n",
    "\n",
    "\"\"\"\n",
    "ps.sqldf(df_query9)"
   ]
  },
  {
   "cell_type": "code",
   "execution_count": null,
   "id": "2ab213b8",
   "metadata": {},
   "outputs": [],
   "source": [
    "df_query10 = \"\"\"\n",
    "SELECT Gender AS 'Gênero',\n",
    "       COUNT(\"Purchase_Amount_(USD)\") AS 'Quantidade de usuárias femininas',\n",
    "       AVG(\"Purchase_Amount_(USD)\") AS 'Média de gastos de usuárias femininas',\n",
    "       MIN(\"Purchase_Amount_(USD)\") AS 'Gasto mínimo de usuárias femininas',\n",
    "       MAX(\"Purchase_Amount_(USD)\") AS 'Gasto máximo de usuárias femininas'\n",
    "FROM df_prod\n",
    "WHERE UPPER(Gênero) = 'FEMALE'\n",
    "\n",
    "\n",
    "\"\"\"\n",
    "ps.sqldf(df_query10)"
   ]
  },
  {
   "cell_type": "markdown",
   "id": "8810285d",
   "metadata": {},
   "source": [
    "- De acordo com o dataset analisado, as usuárias femininas costumam gastar um pouco mais, em média, em relação aos usuários masculinos!"
   ]
  },
  {
   "cell_type": "markdown",
   "id": "605864a9",
   "metadata": {},
   "source": [
    "> **Com isso, podemos observar que mesmo em número inferior, as usuárias femininas apresentam uma média de gasto um pouco maior próximo aos usuários masculinos, demonstrando que elas possuem uma elevada capacidade de compra!**\n",
    "\n",
    "> **Sabendo disso, pode-se realizar uma campanha publiciária que vise atrair mais o público feminino, desenvolvendo mais produtos voltados para esse público como também descontos para as mesmas, o que pode fazer com que aumente a base de clientes femininos, consequentemente a renda das lojas!**"
   ]
  },
  {
   "cell_type": "markdown",
   "id": "2cf2c93a",
   "metadata": {},
   "source": [
    "_______________"
   ]
  },
  {
   "cell_type": "markdown",
   "id": "d34b6a31",
   "metadata": {},
   "source": [
    "_______________"
   ]
  },
  {
   "cell_type": "markdown",
   "id": "7bf28393",
   "metadata": {},
   "source": [
    "#### Pergunta 03:\n",
    "\n",
    "#### Qual é o item mais comprado em cada categoria entre os diferentes gêneros dos usuários?\n"
   ]
  },
  {
   "cell_type": "markdown",
   "id": "2346d8d9",
   "metadata": {},
   "source": [
    "    3.1 Para a categoria de Acessórios:"
   ]
  },
  {
   "cell_type": "markdown",
   "id": "f4ef0010",
   "metadata": {},
   "source": [
    "**Código em Pandas:**"
   ]
  },
  {
   "cell_type": "code",
   "execution_count": null,
   "id": "d830d5c5",
   "metadata": {},
   "outputs": [],
   "source": [
    "df_users_category_Ace_Male = df_users_pandas[['Item_Purchased', 'Category','Gender']][df_users_pandas['Category'] == 'Accessories'].\\\n",
    "query('Gender == \"Male\"').value_counts().reset_index().\\\n",
    "rename(columns={'Item_Purchased' : 'Item', 'Category' : 'Categoria', 'Gender' : 'Gênero','count' : 'Quantidade'}).\\\n",
    "sort_values(by='Quantidade',ascending=False)\n",
    "\n",
    "df_users_category_Ace_Male['(%) do Item'] = round(df_users_category_Ace_Male['Quantidade']/df_users_category_Ace_Male['Quantidade'].sum()*100,2)\n",
    "\n",
    "df_users_category_Ace_Male['Categoria'] = df_users_category_Ace_Male['Categoria'].map({'Accessories' : 'Acessórios'})\n",
    "\n",
    "df_users_category_Ace_Male['Gênero'] = df_users_category_Ace_Male['Gênero'].map({'Male' : 'Masculino'})\n",
    "\n",
    "df_users_category_Ace_Male"
   ]
  },
  {
   "cell_type": "code",
   "execution_count": null,
   "id": "2d17f7ec",
   "metadata": {},
   "outputs": [],
   "source": [
    "df_users_category_Ace_Female = df_users_pandas[['Item_Purchased', 'Category','Gender']][df_users_pandas['Category'] == 'Accessories'].\\\n",
    "query('Gender == \"Female\"').value_counts().reset_index().\\\n",
    "rename(columns={'Item_Purchased' : 'Item', 'Category' : 'Categoria', 'Gender' : 'Gênero','count' : 'Quantidade'}).\\\n",
    "sort_values(by='Quantidade',ascending=False)\n",
    "\n",
    "df_users_category_Ace_Female['(%) do Item'] = round(df_users_category_Ace_Female['Quantidade']/df_users_category_Ace_Female['Quantidade'].sum()*100,2)\n",
    "\n",
    "df_users_category_Ace_Female['Categoria'] = df_users_category_Ace_Female['Categoria'].map({'Accessories' : 'Acessórios'})\n",
    "\n",
    "df_users_category_Ace_Female['Gênero'] = df_users_category_Ace_Female['Gênero'].map({'Female' : 'Feminino'})\n",
    "\n",
    "df_users_category_Ace_Female"
   ]
  },
  {
   "cell_type": "markdown",
   "id": "0b31573c",
   "metadata": {},
   "source": [
    "**Código em SQL:**"
   ]
  },
  {
   "cell_type": "code",
   "execution_count": null,
   "id": "37c7bd67",
   "metadata": {},
   "outputs": [],
   "source": [
    "df_query11 = \"\"\"\n",
    "SELECT df_prod.Item_Purchased AS 'Item',\n",
    "       CASE\n",
    "           WHEN df_prod.Category = 'Accessories' THEN 'Acessórios'\n",
    "        END AS 'Categoria',\n",
    "       CASE \n",
    "           WHEN df_prod.Gender = 'Male' THEN 'Masculino' \n",
    "        END AS 'Gênero',\n",
    "       COUNT(df_prod.Item_Purchased) AS 'Quantidade',\n",
    "       (COUNT(df_prod.Item_Purchased)*100 / (SELECT COUNT(df_prod.Category) FROM df_prod WHERE LOWER(df_prod.Category) = \"accessories\" AND LOWER(df_prod.Gender) = \"male\")) as '(%) do Item'\n",
    "FROM df_prod\n",
    "WHERE LOWER(Categoria) = \"acessórios\" AND LOWER(Gênero) = \"masculino\"\n",
    "GROUP BY Item\n",
    "ORDER BY Quantidade DESC\n",
    "\n",
    "\"\"\"\n",
    "ps.sqldf(df_query11)"
   ]
  },
  {
   "cell_type": "code",
   "execution_count": null,
   "id": "df817388",
   "metadata": {},
   "outputs": [],
   "source": [
    "df_query12 = \"\"\"\n",
    "SELECT df_prod.Item_Purchased AS 'Item',\n",
    "       CASE\n",
    "           WHEN df_prod.Category = 'Accessories' THEN 'Acessórios'\n",
    "        END AS 'Categoria',\n",
    "       CASE \n",
    "           WHEN df_prod.Gender = 'Female' THEN 'Feminino' \n",
    "        END AS 'Gênero',\n",
    "       COUNT(df_prod.Item_Purchased) AS 'Quantidade',\n",
    "       (COUNT(df_prod.Item_Purchased)*100 / (SELECT COUNT(df_prod.Category) FROM df_prod WHERE LOWER(df_prod.Category) = \"accessories\" AND LOWER(df_prod.Gender) = \"female\")) as '(%) do Item'\n",
    "FROM df_prod\n",
    "WHERE LOWER(Categoria) = \"acessórios\" AND LOWER(Gênero) = \"feminino\"\n",
    "GROUP BY Item\n",
    "ORDER BY Quantidade DESC\n",
    "\n",
    "\"\"\"\n",
    "ps.sqldf(df_query12)"
   ]
  },
  {
   "cell_type": "markdown",
   "id": "5e75ea2e",
   "metadata": {},
   "source": [
    "- O item mais comprado entre o público masculino foi Jóias que representou uma porcentagem de 13,79%, enquanto que para o publico feminino foi Mochila de Mão com 14% das compras da categoria Acessórios!"
   ]
  },
  {
   "cell_type": "markdown",
   "id": "6916c013",
   "metadata": {},
   "source": [
    "    3.2 Para a categoria de Roupas:"
   ]
  },
  {
   "cell_type": "markdown",
   "id": "509ece94",
   "metadata": {},
   "source": [
    "**Código em Pandas:**"
   ]
  },
  {
   "cell_type": "code",
   "execution_count": null,
   "id": "f0e8f07a",
   "metadata": {},
   "outputs": [],
   "source": [
    "df_users_category_Clo_Male = df_users_pandas[['Item_Purchased','Category','Gender']][df_users_pandas['Category'] == 'Clothing'].\\\n",
    "query('Gender == \"Male\"').value_counts().reset_index().\\\n",
    "rename(columns={'Item_Purchased' : 'Item', 'Category' : 'Categoria', 'Gender' : 'Gênero','count' : 'Quantidade'}).\\\n",
    "sort_values(by='Quantidade',ascending=False)\n",
    "\n",
    "df_users_category_Clo_Male['(%) do Item'] = round(df_users_category_Clo_Male['Quantidade']/df_users_category_Clo_Male['Quantidade'].sum()*100,2)\n",
    "\n",
    "df_users_category_Clo_Male['Categoria'] = df_users_category_Clo_Male['Categoria'].map({'Clothing' : 'Vestuário'})\n",
    "\n",
    "df_users_category_Clo_Male['Gênero'] = df_users_category_Clo_Male['Gênero'].map({'Male' : 'Masculino'})\n",
    "\n",
    "df_users_category_Clo_Male"
   ]
  },
  {
   "cell_type": "code",
   "execution_count": null,
   "id": "3521e021",
   "metadata": {},
   "outputs": [],
   "source": [
    "df_users_category_Clo_Female = df_users_pandas[['Item_Purchased','Category','Gender']][df_users_pandas['Category'] == 'Clothing'].\\\n",
    "query('Gender == \"Female\"').\\\n",
    "value_counts().reset_index().\\\n",
    "rename(columns={'Item_Purchased' : 'Item', 'Category' : 'Categoria', 'Gender' : 'Gênero','count' : 'Quantidade'}).\\\n",
    "sort_values(by='Quantidade',ascending=False)\n",
    "\n",
    "df_users_category_Clo_Female['(%) do Item'] = round(df_users_category_Clo_Female['Quantidade']/df_users_category_Clo_Female['Quantidade'].sum()*100,2)\n",
    "\n",
    "df_users_category_Clo_Female['Categoria'] = df_users_category_Clo_Female['Categoria'].map({'Clothing' : 'Vestuário'})\n",
    "\n",
    "df_users_category_Clo_Female['Gênero'] = df_users_category_Clo_Female['Gênero'].map({'Female' : 'Feminino'})\n",
    "\n",
    "df_users_category_Clo_Female"
   ]
  },
  {
   "cell_type": "markdown",
   "id": "24481ed3",
   "metadata": {},
   "source": [
    "**Código em SQL:**"
   ]
  },
  {
   "cell_type": "code",
   "execution_count": null,
   "id": "1996fd05",
   "metadata": {},
   "outputs": [],
   "source": [
    "df_query13 = \"\"\"\n",
    "SELECT df_prod.Item_Purchased AS 'Item',\n",
    "       CASE\n",
    "           WHEN df_prod.Category = 'Clothing' THEN 'Vestuário'\n",
    "        END AS 'Categoria',\n",
    "       CASE\n",
    "           WHEN df_prod.Gender = 'Male' THEN 'Masculino'\n",
    "        END AS 'Gênero',\n",
    "       COUNT(df_prod.Item_Purchased) AS 'Quantidade',\n",
    "       (COUNT(df_prod.Item_Purchased)*100 / (SELECT COUNT(df_prod.Category) FROM df_prod WHERE LOWER(df_prod.Category) = \"clothing\" AND LOWER(df_prod.Gender) = 'male')) as '(%) do Item'\n",
    "FROM df_prod\n",
    "WHERE LOWER(Categoria) = \"vestuário\" AND LOWER(Gênero) = \"masculino\"\n",
    "GROUP BY Item\n",
    "ORDER BY Quantidade DESC\n",
    "\"\"\"\n",
    "\n",
    "ps.sqldf(df_query13)"
   ]
  },
  {
   "cell_type": "code",
   "execution_count": null,
   "id": "b3f703f6",
   "metadata": {},
   "outputs": [],
   "source": [
    "df_query14 = \"\"\"\n",
    "SELECT df_prod.Item_Purchased AS 'Item',\n",
    "       CASE\n",
    "           WHEN df_prod.Category = 'Clothing' THEN 'Vestuário'\n",
    "        END AS 'Categoria',\n",
    "       CASE\n",
    "           WHEN df_prod.Gender = 'Female' THEN 'Feminino'\n",
    "        END AS 'Gênero',\n",
    "       COUNT(df_prod.Item_Purchased) AS 'Quantidade',\n",
    "       (COUNT(df_prod.Item_Purchased)*100 / (SELECT COUNT(df_prod.Category) FROM df_prod WHERE LOWER(df_prod.Category) = \"clothing\" AND LOWER(df_prod.Gender) = 'female')) as '(%) do Item'\n",
    "FROM df_prod\n",
    "WHERE LOWER(Categoria) = \"vestuário\" AND LOWER(Gênero) = \"feminino\"\n",
    "GROUP BY Item\n",
    "ORDER BY Quantidade DESC\n",
    "\"\"\"\n",
    "\n",
    "ps.sqldf(df_query14)"
   ]
  },
  {
   "cell_type": "markdown",
   "id": "b62024d0",
   "metadata": {},
   "source": [
    "- Os itens mais comprados entre o público masculino da categoria de Vestuário foram calças e sweters , representando 10% e 9% respectivamente, enquanto que no público feminino foram Blusas, com 11%, e Camisetas, com 10%, de todas as compras da categoria!"
   ]
  },
  {
   "cell_type": "markdown",
   "id": "87bed2a3",
   "metadata": {},
   "source": [
    "    3.3 Para a categoria de calçados:"
   ]
  },
  {
   "cell_type": "markdown",
   "id": "08c78419",
   "metadata": {},
   "source": [
    "**Código em Pandas:**"
   ]
  },
  {
   "cell_type": "code",
   "execution_count": null,
   "id": "1eacdae8",
   "metadata": {},
   "outputs": [],
   "source": [
    "df_users_category_Foot_Male = df_users_pandas[['Item_Purchased', 'Category','Gender']][df_users_pandas['Category'] == 'Footwear'].\\\n",
    "query('Gender == \"Male\"').value_counts().\\\n",
    "reset_index().rename(columns={'Item_Purchased' : 'Item', 'Category' : 'Categoria', 'Gender' : 'Gênero', 'count' : 'Quantidade'}).\\\n",
    "sort_values(by='Quantidade',ascending=False)\n",
    "\n",
    "df_users_category_Foot_Male['(%) do Item'] = round(df_users_category_Foot_Male['Quantidade']/df_users_category_Foot_Male['Quantidade'].sum()*100,2)\n",
    "\n",
    "df_users_category_Foot_Male['Categoria'] = df_users_category_Foot_Male['Categoria'].map({'Footwear' : 'Calçados'})\n",
    "\n",
    "df_users_category_Foot_Male['Gênero'] = df_users_category_Foot_Male['Gênero'].map({'Male' : 'Masculino'})\n",
    "\n",
    "df_users_category_Foot_Male"
   ]
  },
  {
   "cell_type": "code",
   "execution_count": null,
   "id": "64a3e4d1",
   "metadata": {},
   "outputs": [],
   "source": [
    "df_users_category_Foot_Female = df_users_pandas[['Item_Purchased', 'Category','Gender']][df_users_pandas['Category'] == 'Footwear'].\\\n",
    "query('Gender == \"Female\"').value_counts().\\\n",
    "reset_index().rename(columns={'Item_Purchased' : 'Item', 'Category' : 'Categoria', 'Gender' : 'Gênero', 'count' : 'Quantidade'}).\\\n",
    "sort_values(by='Quantidade',ascending=False)\n",
    "\n",
    "df_users_category_Foot_Female['(%) do Item'] = round(df_users_category_Foot_Female['Quantidade']/df_users_category_Foot_Female['Quantidade'].sum()*100,2)\n",
    "\n",
    "df_users_category_Foot_Female['Categoria'] = df_users_category_Foot_Female['Categoria'].map({'Footwear' : 'Calçados'})\n",
    "\n",
    "df_users_category_Foot_Female['Gênero'] = df_users_category_Foot_Female['Gênero'].map({'Female' : 'feminino'})\n",
    "\n",
    "df_users_category_Foot_Female"
   ]
  },
  {
   "cell_type": "markdown",
   "id": "f89768aa",
   "metadata": {},
   "source": [
    "**Código em SQL:**"
   ]
  },
  {
   "cell_type": "code",
   "execution_count": null,
   "id": "f9572253",
   "metadata": {},
   "outputs": [],
   "source": [
    "df_query15 = \"\"\"\n",
    "SELECT df_prod.Item_Purchased AS 'Item',\n",
    "        CASE\n",
    "           WHEN df_prod.Category = 'Footwear' THEN 'Calçados'\n",
    "        END AS 'Categoria',\n",
    "        CASE\n",
    "           WHEN df_prod.Gender = 'Male' THEN 'Masculino'\n",
    "        END AS 'Gênero',         \n",
    "       COUNT(df_prod.Item_Purchased) AS 'Quantidade',\n",
    "       (COUNT(df_prod.Item_Purchased)*100 / (SELECT COUNT(df_prod.Category) FROM df_prod WHERE LOWER(df_prod.Category) = \"footwear\" AND LOWER(df_prod.Gender) = \"male\")) as '(%) do Item'\n",
    "FROM df_prod\n",
    "WHERE LOWER(Categoria) = \"calçados\" AND LOWER(Gênero) = \"masculino\"\n",
    "GROUP BY Item\n",
    "ORDER BY Quantidade DESC\n",
    "\"\"\"\n",
    "\n",
    "ps.sqldf(df_query15)"
   ]
  },
  {
   "cell_type": "code",
   "execution_count": null,
   "id": "0706e11a",
   "metadata": {},
   "outputs": [],
   "source": [
    "df_query16 = \"\"\"\n",
    "SELECT df_prod.Item_Purchased AS 'Item',\n",
    "        CASE\n",
    "           WHEN df_prod.Category = 'Footwear' THEN 'Calçados'\n",
    "        END AS 'Categoria',\n",
    "        CASE\n",
    "           WHEN df_prod.Gender = 'Female' THEN 'Feminino'\n",
    "        END AS 'Gênero',         \n",
    "       COUNT(df_prod.Item_Purchased) AS 'Quantidade',\n",
    "       (COUNT(df_prod.Item_Purchased)*100 / (SELECT COUNT(df_prod.Category) FROM df_prod WHERE LOWER(df_prod.Category) = \"footwear\" AND LOWER(df_prod.Gender) = \"female\")) as '(%) do Item'\n",
    "FROM df_prod\n",
    "WHERE LOWER(Categoria) = \"calçados\" AND LOWER(Gênero) = \"feminino\"\n",
    "GROUP BY Item\n",
    "ORDER BY Quantidade DESC\n",
    "\"\"\"\n",
    "\n",
    "ps.sqldf(df_query16)"
   ]
  },
  {
   "cell_type": "markdown",
   "id": "0320699a",
   "metadata": {},
   "source": [
    "- O item mais comprado entre o público masculino da categoria de Calçados foram tênis, sapatos e sandálias cada um deles representando 25% do total, enquanto que no público feminino foi sandália, com 29% de todas as compras da categoria!"
   ]
  },
  {
   "cell_type": "markdown",
   "id": "055b891d",
   "metadata": {},
   "source": [
    "    3.4 Para a categoria de Agasalhos:\n",
    "    "
   ]
  },
  {
   "cell_type": "markdown",
   "id": "7436871e",
   "metadata": {},
   "source": [
    "**Código em Pandas:**"
   ]
  },
  {
   "cell_type": "code",
   "execution_count": null,
   "id": "2d67667a",
   "metadata": {},
   "outputs": [],
   "source": [
    "df_users_category_Aga_Male = df_users_pandas[['Item_Purchased', 'Category','Gender']][df_users_pandas['Category'] == 'Outerwear'].\\\n",
    "query('Gender == \"Male\"').value_counts().\\\n",
    "reset_index().rename(columns={'Item_Purchased' : 'Item', 'Category' : 'Categoria', 'Gender' : \"Gênero\",'count' : 'Quantidade'}).\\\n",
    "sort_values(by='Quantidade',ascending=False)\n",
    "\n",
    "df_users_category_Aga_Male['(%) do Item'] = round(df_users_category_Aga_Male['Quantidade']/df_users_category_Aga_Male['Quantidade'].sum()*100,2)\n",
    "\n",
    "df_users_category_Aga_Male['Categoria'] = df_users_category_Aga_Male['Categoria'].map({'Outerwear' : 'Agasalhos'})\n",
    "\n",
    "df_users_category_Aga_Male['Gênero'] = df_users_category_Aga_Male['Gênero'].map({'Male' : 'Masculino'})\n",
    "\n",
    "df_users_category_Aga_Male"
   ]
  },
  {
   "cell_type": "code",
   "execution_count": null,
   "id": "7c42a625",
   "metadata": {},
   "outputs": [],
   "source": [
    "df_users_category_Aga_Female = df_users_pandas[['Item_Purchased', 'Category','Gender']][df_users_pandas['Category'] == 'Outerwear'].\\\n",
    "query('Gender == \"Female\"').value_counts().\\\n",
    "reset_index().rename(columns={'Item_Purchased' : 'Item', 'Category' : 'Categoria', 'Gender' : \"Gênero\",'count' : 'Quantidade'}).\\\n",
    "sort_values(by='Quantidade',ascending=False)\n",
    "\n",
    "df_users_category_Aga_Female['(%) do Item'] = round(df_users_category_Aga_Female['Quantidade']/df_users_category_Aga_Female['Quantidade'].sum()*100,2)\n",
    "\n",
    "df_users_category_Aga_Female['Categoria'] = df_users_category_Aga_Female['Categoria'].map({'Outerwear' : 'Agasalhos'})\n",
    "\n",
    "df_users_category_Aga_Female['Gênero'] = df_users_category_Aga_Female['Gênero'].map({'Female' : 'Feminino'})\n",
    "\n",
    "df_users_category_Aga_Female"
   ]
  },
  {
   "cell_type": "markdown",
   "id": "7047c357",
   "metadata": {},
   "source": [
    "**Código em SQL:**"
   ]
  },
  {
   "cell_type": "code",
   "execution_count": null,
   "id": "bd406371",
   "metadata": {},
   "outputs": [],
   "source": [
    "df_query17 = \"\"\"\n",
    "SELECT \n",
    "       df_prod.Item_Purchased AS 'Item',\n",
    "       CASE\n",
    "           WHEN df_prod.Category = 'Outerwear' THEN 'Agasalhos'\n",
    "        END AS 'Categoria',\n",
    "       CASE\n",
    "           WHEN df_prod.Gender = 'Male' THEN 'Masculino'\n",
    "        END AS 'Gênero',\n",
    "       COUNT(df_prod.Item_Purchased) AS 'Quantidade',\n",
    "       (COUNT(df_prod.Item_Purchased)*100 / (SELECT COUNT(df_prod.Category) FROM df_prod WHERE LOWER(df_prod.Category) = \"outerwear\" AND LOWER(df_prod.Gender) = \"male\")) as '(%) do Item'\n",
    "FROM df_prod\n",
    "WHERE LOWER(Categoria) = \"agasalhos\" AND LOWER(Gênero) = \"masculino\"\n",
    "GROUP BY Item\n",
    "ORDER BY Quantidade DESC\n",
    "\"\"\"\n",
    "\n",
    "ps.sqldf(df_query17)"
   ]
  },
  {
   "cell_type": "code",
   "execution_count": null,
   "id": "9190052b",
   "metadata": {},
   "outputs": [],
   "source": [
    "df_query18 = \"\"\"\n",
    "SELECT \n",
    "       df_prod.Item_Purchased AS 'Item',\n",
    "       CASE\n",
    "           WHEN df_prod.Category = 'Outerwear' THEN 'Agasalhos'\n",
    "        END AS 'Categoria',\n",
    "       CASE\n",
    "           WHEN df_prod.Gender = 'Female' THEN 'Feminino'\n",
    "        END AS 'Gênero',\n",
    "       COUNT(df_prod.Item_Purchased) AS 'Quantidade',\n",
    "       (COUNT(df_prod.Item_Purchased)*100 / (SELECT COUNT(df_prod.Category) FROM df_prod WHERE LOWER(df_prod.Category) = \"outerwear\" AND LOWER(df_prod.Gender) = \"female\")) as '(%) do Item'\n",
    "FROM df_prod\n",
    "WHERE LOWER(Categoria) = \"agasalhos\" AND LOWER(Gênero) = \"feminino\"\n",
    "GROUP BY Item\n",
    "ORDER BY Quantidade DESC\n",
    "\"\"\"\n",
    "\n",
    "ps.sqldf(df_query18)"
   ]
  },
  {
   "cell_type": "markdown",
   "id": "1c72a749",
   "metadata": {},
   "source": [
    "- O item mais comprado entre o público masculino da categoria de Agasalhos foi casacos, representando 51%, enquanto que no público feminino foi jaqueta com 53% de todas as compras da categoria!"
   ]
  },
  {
   "cell_type": "markdown",
   "id": "617d1615",
   "metadata": {},
   "source": [
    "> **Foi visto que as categorias que possuem maior tipos de itens são as que os usuários mais realizam compras! Onde, a categoria com mais compras foi Vestuários que conta com 11 itens, enquanto que a menor foi Agasalhos que conta apenas com 2 itens!**\n",
    "\n",
    "> **Sabendo disto pode-se avaliar a possibilidade da realização de ofertas que visem uma maior venda dos produtos da linha de agasalhos aumentando os tipos de itens que o compõem, tendo em vista que nesta categoria existem apenas dois itens e, isto pode esta associado ao baixo numero de compras!**"
   ]
  },
  {
   "cell_type": "markdown",
   "id": "a63741b2",
   "metadata": {},
   "source": [
    "_________________"
   ]
  },
  {
   "cell_type": "markdown",
   "id": "4e0f1b54",
   "metadata": {},
   "source": [
    "_________________"
   ]
  },
  {
   "cell_type": "markdown",
   "id": "d508929e",
   "metadata": {},
   "source": [
    "#### Pergunta 04: \n",
    "\n",
    "####    Há uma tendência específica de cor e de tipo de itens nas compras em relação ao tipo de Coleção?   \n",
    "    \n"
   ]
  },
  {
   "cell_type": "code",
   "execution_count": null,
   "id": "870cab06",
   "metadata": {},
   "outputs": [],
   "source": [
    "df_users_pandas['Season'].unique()"
   ]
  },
  {
   "cell_type": "markdown",
   "id": "5c93b044",
   "metadata": {},
   "source": [
    "4.1.1 Cor de item mais comprada para a coleção de inverno (Winter):"
   ]
  },
  {
   "cell_type": "markdown",
   "id": "d6b03dec",
   "metadata": {},
   "source": [
    "**Código em Pandas:**"
   ]
  },
  {
   "cell_type": "code",
   "execution_count": null,
   "id": "b1d04aa1",
   "metadata": {},
   "outputs": [],
   "source": [
    "df_users_pandas[['Color','Season']].query('Season == \"Winter\"').value_counts().reset_index().\\\n",
    "rename(columns={'Color' : 'Cor', 'Season' : 'Coleção', 'count' : 'Quantidade de Itens'}).loc[0:4]"
   ]
  },
  {
   "cell_type": "markdown",
   "id": "22268609",
   "metadata": {},
   "source": [
    "**Código em SQL:**"
   ]
  },
  {
   "cell_type": "code",
   "execution_count": null,
   "id": "6f85e670",
   "metadata": {},
   "outputs": [],
   "source": [
    "df_query19 = \"\"\"\n",
    "SELECT df_info.Color as 'Cor',\n",
    "       df_info.Season as 'Coleção',\n",
    "       COUNT(df_info.Color) as 'Quantidade de Itens'\n",
    "FROM df_info\n",
    "WHERE LOWER(Coleção) = 'winter'\n",
    "GROUP BY Cor\n",
    "ORDER BY \"Quantidade de Itens\" DESC\n",
    "LIMIT 5\n",
    "\n",
    "\"\"\"\n",
    "\n",
    "ps.sqldf(df_query19)"
   ]
  },
  {
   "cell_type": "markdown",
   "id": "b70c9988",
   "metadata": {},
   "source": [
    "- Na coleção de Inverno, é visto que existe uma maior quantidade de compra pelos usuários de itens da cor Verde!"
   ]
  },
  {
   "cell_type": "markdown",
   "id": "4e1aaad7",
   "metadata": {},
   "source": [
    "4.1.2 Itens mais comprados para a coleção de inverno (Winter):"
   ]
  },
  {
   "cell_type": "markdown",
   "id": "a5c0b5fb",
   "metadata": {},
   "source": [
    "**Código em Pandas:**"
   ]
  },
  {
   "cell_type": "code",
   "execution_count": null,
   "id": "35eb2efc",
   "metadata": {},
   "outputs": [],
   "source": [
    "df_users_pandas[['Item_Purchased','Season']].query('Season == \"Winter\"').value_counts().reset_index().\\\n",
    "rename(columns={'Item_Purchased' : 'Item', 'Season' : 'Coleção', 'count' : 'Quantidade de Itens'}).loc[0:4]"
   ]
  },
  {
   "cell_type": "markdown",
   "id": "d6970108",
   "metadata": {},
   "source": [
    "**Código em SQL:**"
   ]
  },
  {
   "cell_type": "code",
   "execution_count": null,
   "id": "9ee8e31f",
   "metadata": {},
   "outputs": [],
   "source": [
    "df_query19_2 = \"\"\"\n",
    "SELECT df_prod.Item_Purchased as 'Item',\n",
    "       df_info.Season as 'Coleção',\n",
    "       COUNT(df_prod.Item_Purchased) as 'Quantidade de Itens'\n",
    "FROM df_info\n",
    "INNER JOIN df_prod\n",
    "ON df_prod.Customer_ID = df_info.Customer_ID\n",
    "WHERE LOWER(Coleção) = 'winter'\n",
    "GROUP BY Item\n",
    "ORDER BY \"Quantidade de Itens\" DESC\n",
    "LIMIT 5\n",
    "\n",
    "\"\"\"\n",
    "\n",
    "ps.sqldf(df_query19_2)"
   ]
  },
  {
   "cell_type": "markdown",
   "id": "fc1441f2",
   "metadata": {},
   "source": [
    "- De acordo com as análises, é visto que os principais itens mais comprados da coleção de Inverno são Óculos de sol, Calças e camisetas!"
   ]
  },
  {
   "cell_type": "markdown",
   "id": "1bc47df4",
   "metadata": {},
   "source": [
    "4.2.1 Cor de item mais comprada para a coleção de primavera (Spring):"
   ]
  },
  {
   "cell_type": "markdown",
   "id": "09458c06",
   "metadata": {},
   "source": [
    "**Código em Pandas:**"
   ]
  },
  {
   "cell_type": "code",
   "execution_count": null,
   "id": "2e229614",
   "metadata": {},
   "outputs": [],
   "source": [
    "df_users_pandas[['Color','Season']].query('Season == \"Spring\"').value_counts().reset_index().\\\n",
    "rename(columns={'Color' : 'Cor', 'Season' : 'Coleção', 'count' : 'Quantidade de Itens'}).loc[0:4]"
   ]
  },
  {
   "cell_type": "markdown",
   "id": "318f9816",
   "metadata": {},
   "source": [
    "**Código em SQL:**"
   ]
  },
  {
   "cell_type": "code",
   "execution_count": null,
   "id": "5b4ca28c",
   "metadata": {},
   "outputs": [],
   "source": [
    "df_query20 = \"\"\"\n",
    "SELECT df_info.Color as 'Cor',\n",
    "       df_info.Season as 'Coleção',\n",
    "       COUNT(df_info.Color) as 'Quantidade de Itens'\n",
    "FROM df_info\n",
    "WHERE LOWER(Coleção) = 'spring'\n",
    "GROUP BY Cor\n",
    "ORDER BY \"Quantidade de Itens\" DESC\n",
    "LIMIT 5\n",
    "\n",
    "\"\"\"\n",
    "\n",
    "ps.sqldf(df_query20)"
   ]
  },
  {
   "cell_type": "markdown",
   "id": "8106fb0b",
   "metadata": {},
   "source": [
    "- Na coleção de Primavera, é visto que existe uma maior quantidade de compra pelos usuários de itens da cor oliva, similar ao verde! \n"
   ]
  },
  {
   "cell_type": "markdown",
   "id": "2ed985f9",
   "metadata": {},
   "source": [
    "4.2.2 Itens mais comprados para a coleção de primavera (Spring):"
   ]
  },
  {
   "cell_type": "markdown",
   "id": "36ae305d",
   "metadata": {},
   "source": [
    "**Código em Pandas:**"
   ]
  },
  {
   "cell_type": "code",
   "execution_count": null,
   "id": "b173311b",
   "metadata": {},
   "outputs": [],
   "source": [
    "df_users_pandas[['Item_Purchased','Season']].query('Season == \"Spring\"').value_counts().reset_index().\\\n",
    "rename(columns={'Item_Purchased' : 'Item', 'Season' : 'Coleção', 'count' : 'Quantidade de Itens'}).loc[0:4]"
   ]
  },
  {
   "cell_type": "markdown",
   "id": "96699772",
   "metadata": {},
   "source": [
    "**Código em SQL:**"
   ]
  },
  {
   "cell_type": "code",
   "execution_count": null,
   "id": "6726682a",
   "metadata": {},
   "outputs": [],
   "source": [
    "df_query20_2 = \"\"\"\n",
    "SELECT df_prod.Item_Purchased as 'Item',\n",
    "       df_info.Season as 'Coleção',\n",
    "       COUNT(df_prod.Item_Purchased) as 'Quantidade de Itens'\n",
    "FROM df_info\n",
    "INNER JOIN df_prod\n",
    "ON df_prod.Customer_ID = df_info.Customer_ID\n",
    "WHERE LOWER(Coleção) = 'spring'\n",
    "GROUP BY Item\n",
    "ORDER BY \"Quantidade de Itens\" DESC\n",
    "LIMIT 5\n",
    "\n",
    "\"\"\"\n",
    "\n",
    "ps.sqldf(df_query20_2)"
   ]
  },
  {
   "cell_type": "markdown",
   "id": "deee47ba",
   "metadata": {},
   "source": [
    "- De acordo com as análises, é visto que o principal item mais comprado da coleção de Primavera é o Sweater! \n"
   ]
  },
  {
   "cell_type": "markdown",
   "id": "26558439",
   "metadata": {},
   "source": [
    "4.3.1  Cor de item mais comprada para a coleção de verão (Summer):\n"
   ]
  },
  {
   "cell_type": "markdown",
   "id": "e1bfd439",
   "metadata": {},
   "source": [
    "**Código em Pandas:**"
   ]
  },
  {
   "cell_type": "code",
   "execution_count": null,
   "id": "3fed63a7",
   "metadata": {},
   "outputs": [],
   "source": [
    "df_users_pandas[['Color','Season']].query('Season == \"Summer\"').value_counts().reset_index().\\\n",
    "rename(columns={'Color' : 'Cor', 'Season' : 'Coleção', 'count' : 'Quantidade de Itens'}).loc[0:4]"
   ]
  },
  {
   "cell_type": "markdown",
   "id": "805a3235",
   "metadata": {},
   "source": [
    "**Código em SQL:**"
   ]
  },
  {
   "cell_type": "code",
   "execution_count": null,
   "id": "37675611",
   "metadata": {},
   "outputs": [],
   "source": [
    "df_query21 = \"\"\"\n",
    "SELECT df_info.Color as 'Cor',\n",
    "       df_info.Season as 'Coleção',\n",
    "       COUNT(df_info.Color) as 'Quantidade de Itens'\n",
    "FROM df_info\n",
    "WHERE LOWER(Coleção) = 'summer'\n",
    "GROUP BY Cor\n",
    "ORDER BY \"Quantidade de Itens\" DESC\n",
    "LIMIT 5\n",
    "\n",
    "\"\"\"\n",
    "\n",
    "ps.sqldf(df_query21)"
   ]
  },
  {
   "cell_type": "markdown",
   "id": "93a179b9",
   "metadata": {},
   "source": [
    "- Na coleção de Verão, é visto que existe uma maior quantidade de compra pelos usuários de itens da cor prateada! \n"
   ]
  },
  {
   "cell_type": "markdown",
   "id": "4fb1a217",
   "metadata": {},
   "source": [
    "4.3.2  Itens mais comprados para a coleção de verão (Summer):"
   ]
  },
  {
   "cell_type": "markdown",
   "id": "fa749292",
   "metadata": {},
   "source": [
    "**Código em Pandas:**"
   ]
  },
  {
   "cell_type": "code",
   "execution_count": null,
   "id": "8819d39d",
   "metadata": {},
   "outputs": [],
   "source": [
    "df_users_pandas[['Item_Purchased','Season']].query('Season == \"Summer\"').value_counts().reset_index().\\\n",
    "rename(columns={'Item_Purchased' : 'Item', 'Season' : 'Coleção', 'count' : 'Quantidade de Itens'}).loc[0:4]"
   ]
  },
  {
   "cell_type": "markdown",
   "id": "f733a83e",
   "metadata": {},
   "source": [
    "**Código em SQL:**"
   ]
  },
  {
   "cell_type": "code",
   "execution_count": null,
   "id": "1e1ee953",
   "metadata": {},
   "outputs": [],
   "source": [
    "df_query21_2 = \"\"\"\n",
    "SELECT df_prod.Item_Purchased as 'Item',\n",
    "       df_info.Season as 'Coleção',\n",
    "       COUNT(df_prod.Item_Purchased) as 'Quantidade de Itens'\n",
    "FROM df_info\n",
    "INNER JOIN df_prod\n",
    "ON df_prod.Customer_ID = df_info.Customer_ID\n",
    "WHERE LOWER(Coleção) = 'summer'\n",
    "GROUP BY Item\n",
    "ORDER BY \"Quantidade de Itens\" DESC\n",
    "LIMIT 5\n",
    "\n",
    "\"\"\"\n",
    "\n",
    "ps.sqldf(df_query21_2)"
   ]
  },
  {
   "cell_type": "markdown",
   "id": "1ccbd4b7",
   "metadata": {},
   "source": [
    "- De acordo com as análises, é visto que o principal item mais comprado da coleção de Verão é a calça! "
   ]
  },
  {
   "cell_type": "markdown",
   "id": "b94dba31",
   "metadata": {},
   "source": [
    "4.4.1 Cor de item mais comprada para a coleção de outono (Fall):\n"
   ]
  },
  {
   "cell_type": "markdown",
   "id": "4f2262ff",
   "metadata": {},
   "source": [
    "**Código em Pandas:**"
   ]
  },
  {
   "cell_type": "code",
   "execution_count": null,
   "id": "cab28454",
   "metadata": {},
   "outputs": [],
   "source": [
    "df_users_pandas[['Color','Season']].query('Season == \"Fall\"').value_counts().reset_index().\\\n",
    "rename(columns={'Color' : 'Cor', 'Season' : 'Coleção', 'count' : 'Quantidade de Itens'}).loc[0:4]"
   ]
  },
  {
   "cell_type": "markdown",
   "id": "0af170ef",
   "metadata": {},
   "source": [
    "**Código em SQL:**"
   ]
  },
  {
   "cell_type": "code",
   "execution_count": null,
   "id": "383a786d",
   "metadata": {},
   "outputs": [],
   "source": [
    "df_query22 = \"\"\"\n",
    "SELECT df_info.Color as 'Cor',\n",
    "       df_info.Season as 'Coleção',\n",
    "       COUNT(df_info.Color) as 'Quantidade de Itens'\n",
    "FROM df_info\n",
    "WHERE LOWER(Coleção) = 'fall'\n",
    "GROUP BY Cor\n",
    "ORDER BY \"Quantidade de Itens\" DESC\n",
    "LIMIT 5\n",
    "\n",
    "\"\"\"\n",
    "\n",
    "ps.sqldf(df_query22)"
   ]
  },
  {
   "cell_type": "markdown",
   "id": "02b56830",
   "metadata": {},
   "source": [
    "- Na coleção de Outono, é visto que existe uma maior quantidade de compra pelos usuários de itens da cor amarela e magenta, cores claras e vívidas!\n"
   ]
  },
  {
   "cell_type": "markdown",
   "id": "f76c9fb2",
   "metadata": {},
   "source": [
    "4.4.2  Itens mais comprados para a coleção de outono (Fall):"
   ]
  },
  {
   "cell_type": "markdown",
   "id": "9e5d833f",
   "metadata": {},
   "source": [
    "**Código em Pandas:**"
   ]
  },
  {
   "cell_type": "code",
   "execution_count": null,
   "id": "ceed2582",
   "metadata": {},
   "outputs": [],
   "source": [
    "df_users_pandas[['Item_Purchased','Season']].query('Season == \"Fall\"').value_counts().reset_index().\\\n",
    "rename(columns={'Item_Purchased' : 'Item', 'Season' : 'Coleção', 'count' : 'Quantidade de Itens'}).loc[0:4]"
   ]
  },
  {
   "cell_type": "markdown",
   "id": "6f033e20",
   "metadata": {},
   "source": [
    "**Código em SQL:**"
   ]
  },
  {
   "cell_type": "code",
   "execution_count": null,
   "id": "f231a133",
   "metadata": {},
   "outputs": [],
   "source": [
    "df_query22_2 = \"\"\"\n",
    "SELECT df_prod.Item_Purchased as 'Item',\n",
    "       df_info.Season as 'Coleção',\n",
    "       COUNT(df_prod.Item_Purchased) as 'Quantidade de Itens'\n",
    "FROM df_info\n",
    "INNER JOIN df_prod\n",
    "ON df_prod.Customer_ID = df_info.Customer_ID\n",
    "WHERE LOWER(Coleção) = 'fall'\n",
    "GROUP BY Item\n",
    "ORDER BY \"Quantidade de Itens\" DESC\n",
    "LIMIT 5\n",
    "\n",
    "\"\"\"\n",
    "\n",
    "ps.sqldf(df_query22_2)"
   ]
  },
  {
   "cell_type": "markdown",
   "id": "772a5986",
   "metadata": {},
   "source": [
    "- De acordo com as análises, é visto que os principais itens comprados da coleção de Outono são a jaqueta e o chapéu! "
   ]
  },
  {
   "cell_type": "markdown",
   "id": "3d3d6384",
   "metadata": {},
   "source": [
    "> **Ao analisar a preferência de cores pelos usuários, observou que cores claras tendem a ser mais compradas, com isso pode-se pensar em uma coleção completa de itens focados em cores mais claras conjuntamente com uma ação de marketing para dissemina-la!**"
   ]
  },
  {
   "cell_type": "markdown",
   "id": "503e2bbe",
   "metadata": {},
   "source": [
    "_________________"
   ]
  },
  {
   "cell_type": "markdown",
   "id": "6381500b",
   "metadata": {},
   "source": [
    "_________________"
   ]
  },
  {
   "cell_type": "markdown",
   "id": "744ba30b",
   "metadata": {},
   "source": [
    "#### Pergunta 05:\n",
    "#### Os clientes que usam códigos promocionais têm maior propensão à assinatura?\n"
   ]
  },
  {
   "cell_type": "markdown",
   "id": "69fe66d4",
   "metadata": {},
   "source": [
    "**Código em Pandas:**"
   ]
  },
  {
   "cell_type": "code",
   "execution_count": null,
   "id": "b50f5d21",
   "metadata": {},
   "outputs": [],
   "source": [
    "df_assinatura_Yes = df_users_pandas[['Promo_Code_Used','Subscription_Status']].query('Promo_Code_Used == \"Yes\"').value_counts().reset_index().\\\n",
    "rename(columns={'Promo_Code_Used' : 'Código promocional', 'Subscription_Status' : 'Status da Assinatura','count' : 'Nº indivíduos'})\n",
    "\n",
    "df_assinatura_Yes['% de invidíduos'] = round((df_assinatura_Yes['Nº indivíduos'] / df_assinatura_Yes['Nº indivíduos'].sum())*100,0)\n",
    "\n",
    "df_assinatura_Yes"
   ]
  },
  {
   "cell_type": "code",
   "execution_count": null,
   "id": "c7f4abb1",
   "metadata": {},
   "outputs": [],
   "source": [
    "df_assinatura_No = df_users_pandas[['Promo_Code_Used','Subscription_Status']].query('Promo_Code_Used == \"No\"').value_counts().reset_index().\\\n",
    "rename(columns={'Promo_Code_Used' : 'Código promocional', 'Subscription_Status' : 'Status da Assinatura', 'count' : 'Nº indivíduos'})\n",
    "\n",
    "df_assinatura_No['% de invidíduos'] = (df_assinatura_No['Nº indivíduos'] / df_assinatura_No['Nº indivíduos'].sum())*100\n",
    "\n",
    "df_assinatura_No"
   ]
  },
  {
   "cell_type": "markdown",
   "id": "5e588c78",
   "metadata": {},
   "source": [
    "**Código em SQL:**"
   ]
  },
  {
   "cell_type": "code",
   "execution_count": null,
   "id": "70bb57e3",
   "metadata": {},
   "outputs": [],
   "source": [
    "df_query23 = \"\"\"\n",
    "SELECT df_info.Promo_Code_Used as 'Código promocional',\n",
    "       df_info.Subscription_Status as 'Status da assinatura',\n",
    "       COUNT(df_info.Subscription_Status) as 'Nº de usuários',\n",
    "       (COUNT(df_info.Subscription_Status)*100 / (SELECT COUNT(df_info.Promo_Code_Used) FROM df_info WHERE LOWER(df_info.Promo_Code_Used) = 'yes')) AS \"% de indivíduos\"\n",
    "FROM df_info\n",
    "WHERE LOWER(\"Código promocional\") = \"yes\"\n",
    "GROUP BY \"Status da assinatura\"\n",
    "ORDER BY \"Nº de usuários\" DESC\n",
    "\n",
    "\"\"\"\n",
    "\n",
    "ps.sqldf(df_query23)"
   ]
  },
  {
   "cell_type": "code",
   "execution_count": null,
   "id": "7169e023",
   "metadata": {},
   "outputs": [],
   "source": [
    "df_query23 = \"\"\"\n",
    "SELECT df_info.Promo_Code_Used as 'Código promocional',\n",
    "       df_info.Subscription_Status as 'Status da assinatura',\n",
    "       COUNT(df_info.Subscription_Status) as 'Nº de usuários',\n",
    "       (COUNT(df_info.Subscription_Status)*100 / (SELECT COUNT(df_info.Promo_Code_Used) FROM df_info WHERE LOWER(df_info.Promo_Code_Used) = 'no')) AS \"% de indivíduos\"\n",
    "FROM df_info\n",
    "WHERE LOWER(\"Código promocional\") = \"no\"\n",
    "GROUP BY \"Status da assinatura\"\n",
    "ORDER BY \"Nº de usuários\" DESC\n",
    "\n",
    "\"\"\"\n",
    "\n",
    "ps.sqldf(df_query23)"
   ]
  },
  {
   "cell_type": "markdown",
   "id": "920332e0",
   "metadata": {},
   "source": [
    "- De acordo com as análises, é visto que a maioria dos usuários, 63% deles, que usam código promocional em suas compras optaram pelo plano de assinatura!"
   ]
  },
  {
   "cell_type": "markdown",
   "id": "876d00f3",
   "metadata": {},
   "source": [
    "_________________"
   ]
  },
  {
   "cell_type": "markdown",
   "id": "02347857",
   "metadata": {},
   "source": [
    "_________________"
   ]
  },
  {
   "cell_type": "markdown",
   "id": "47afae3b",
   "metadata": {},
   "source": [
    "#### Pergunta 06:\n",
    "#### Os clientes que usam códigos promocionais tendem a gastar mais?"
   ]
  },
  {
   "cell_type": "markdown",
   "id": "53d45522",
   "metadata": {},
   "source": [
    "**Código em Pandas:**"
   ]
  },
  {
   "cell_type": "code",
   "execution_count": null,
   "id": "fc8389a5",
   "metadata": {},
   "outputs": [],
   "source": [
    "df_users_pandas.query('Promo_Code_Used == \"Yes\"')['Purchase_Amount_(USD)'].agg(['sum','count']).reset_index().\\\n",
    "rename(columns={'index' : 'Usuários que utilizaram código promocional', 'Purchase_Amount_(USD)' : 'Valores'}).\\\n",
    "replace({'sum' : 'Montante total (USD)', 'count' : 'Nº de compras'})"
   ]
  },
  {
   "cell_type": "code",
   "execution_count": null,
   "id": "f5b1921c",
   "metadata": {},
   "outputs": [],
   "source": [
    "df_users_pandas.query('Promo_Code_Used == \"No\"')['Purchase_Amount_(USD)'].agg(['sum','count']).reset_index().\\\n",
    "rename(columns={'index' : 'Usuários que não utilizaram código promocional', 'Purchase_Amount_(USD)' : 'Valores'}).\\\n",
    "replace({'sum' : 'Montante total (USD)', 'count' : 'Nº de compras'})"
   ]
  },
  {
   "cell_type": "markdown",
   "id": "b1af611e",
   "metadata": {},
   "source": [
    "**Código em SQL:**"
   ]
  },
  {
   "cell_type": "code",
   "execution_count": null,
   "id": "bc5d77ca",
   "metadata": {},
   "outputs": [],
   "source": [
    "df_query24_1 = \"\"\"\n",
    "SELECT \n",
    "    CASE \n",
    "        WHEN df_info.Promo_Code_Used = 'Yes' THEN 'Sim'\n",
    "    END AS 'Uso do código promocional',\n",
    "    SUM( \"Purchase_Amount_(USD)\") as 'Montante total',\n",
    "    COUNT(\"Purchase_Amount_(USD)\") as 'Nº de usuários'\n",
    "FROM df_prod\n",
    "INNER JOIN df_info\n",
    "ON df_info.Customer_ID = df_prod.Customer_ID\n",
    "WHERE LOWER(\"Uso do código promocional\") = 'sim'\n",
    "\"\"\"\n",
    "\n",
    "ps.sqldf(df_query24_1)"
   ]
  },
  {
   "cell_type": "code",
   "execution_count": null,
   "id": "f50243f3",
   "metadata": {},
   "outputs": [],
   "source": [
    "df_query24_2 = \"\"\"\n",
    "SELECT \n",
    "    CASE \n",
    "        WHEN df_info.Promo_Code_Used = 'No' THEN 'Não'\n",
    "    END AS 'Uso do código promocional',\n",
    "    SUM(\"Purchase_Amount_(USD)\") as 'Montante total',\n",
    "    COUNT(\"Purchase_Amount_(USD)\") as 'Nº de usuários'\n",
    "FROM df_prod\n",
    "INNER JOIN df_info\n",
    "ON df_info.Customer_ID = df_prod.Customer_ID\n",
    "WHERE LOWER(\"Uso do código promocional\") = 'não'\n",
    "\n",
    "\"\"\"\n",
    "\n",
    "ps.sqldf(df_query24_2)"
   ]
  },
  {
   "cell_type": "markdown",
   "id": "b51cc226",
   "metadata": {},
   "source": [
    "- De acordo com as análises, usuários que costumam utilizar código promocional em suas compras não gastam mais em relação aqueles que não utilizam os códigos promocionais!\n"
   ]
  },
  {
   "cell_type": "markdown",
   "id": "11a1bebf",
   "metadata": {},
   "source": [
    "> **Visando atrair mais o público para o clube de assinatura, como usuários presente nos 37% dos que receberam código promocional mas não são assinantes e os 2223 usuários que não possuiam código promocional, pode-se englobar mais vantagens para o clube de assinatura, como mais códigos promocionais, maiores descontos, frete grátis, ofertas de compre um leve dois, e, principalmente, ofertas exclusivas para àqueles que assinarem pela primeira o clube!**\n"
   ]
  },
  {
   "cell_type": "markdown",
   "id": "5fecc89d",
   "metadata": {},
   "source": [
    "_________________"
   ]
  },
  {
   "cell_type": "markdown",
   "id": "dd5fcaec",
   "metadata": {},
   "source": [
    "_________________"
   ]
  },
  {
   "cell_type": "markdown",
   "id": "3caa426d",
   "metadata": {},
   "source": [
    "#### Pergunta 07:\n",
    "#### Qual a predileção de produtos comprados pelos jovens (entre 18 e 25 anos) em relação aos adultos (maior que 25 anos)? Esta predileção varia em relação ao gênero?"
   ]
  },
  {
   "cell_type": "markdown",
   "id": "a596acbb",
   "metadata": {},
   "source": [
    "    - 7.1 Em relação aos usuários masculinos:"
   ]
  },
  {
   "cell_type": "markdown",
   "id": "12aadcb4",
   "metadata": {},
   "source": [
    "**Código em Pandas:**"
   ]
  },
  {
   "cell_type": "markdown",
   "id": "a611c0b5",
   "metadata": {},
   "source": [
    "    > Criação de uma variável chamada 'Fase' baseada na coluna 'Age', onde a mesma apresenta dois níveis:\n",
    "        . Jovem = indivíduos abaixo de 25 anos (18 - 25 anos)\n",
    "        . Adulto = indivíduos acima de 25 anos (> 25 anos)"
   ]
  },
  {
   "cell_type": "code",
   "execution_count": null,
   "id": "2560b172",
   "metadata": {},
   "outputs": [],
   "source": [
    "df_users_pandas.loc[df_users_pandas['Age'] <= 25, 'Fase'] = 'Jovem'\n",
    "df_users_pandas.loc[df_users_pandas['Age'] >  25, 'Fase'] = 'Adulto'\n",
    "\n",
    "df_users_pandas"
   ]
  },
  {
   "cell_type": "markdown",
   "id": "1b90a40e",
   "metadata": {},
   "source": [
    "    > Selecionando apenas as variáveis utilizadas para responder a minha pergunta:\n"
   ]
  },
  {
   "cell_type": "code",
   "execution_count": null,
   "id": "2b1f17e6",
   "metadata": {},
   "outputs": [],
   "source": [
    "df_item = df_users_pandas[['Item_Purchased','Gender','Fase']]\n",
    "\n",
    "df_item"
   ]
  },
  {
   "cell_type": "code",
   "execution_count": null,
   "id": "c1552aea",
   "metadata": {},
   "outputs": [],
   "source": [
    "df_item_adultmale = df_item.query('Gender == \"Male\" & Fase == \"Adulto\"').value_counts().reset_index().\\\n",
    "rename(columns={'Item_Purchased' : 'Item', 'Gender' : 'Gênero', 'Fase' : 'Faixa etária', 'count' : 'Nº de itens'})\n",
    "\n",
    "df_item_adultmale['% do item'] = round(df_item_adultmale['Nº de itens'] / sum(df_item_adultmale['Nº de itens'])*100,2)\n",
    "\n",
    "df_item_adultmale.head(10)\n"
   ]
  },
  {
   "cell_type": "code",
   "execution_count": null,
   "id": "4a6b7a7f",
   "metadata": {},
   "outputs": [],
   "source": [
    "df_item_jovemmale = df_item.query('Gender == \"Male\" & Fase == \"Jovem\"').value_counts().reset_index().\\\n",
    "rename(columns={'Item_Purchased' : 'Item', 'Gender' : 'Gênero', 'Fase' : 'Faixa etária', 'count' : 'Nº de itens'})\n",
    "\n",
    "df_item_jovemmale['% do item'] = round(df_item_jovemmale['Nº de itens'] / sum(df_item_jovemmale['Nº de itens'])*100,2)\n",
    "\n",
    "df_item_jovemmale.head(10)"
   ]
  },
  {
   "cell_type": "markdown",
   "id": "e5664039",
   "metadata": {},
   "source": [
    "**Código em SQL:**"
   ]
  },
  {
   "cell_type": "code",
   "execution_count": null,
   "id": "f279ce2a",
   "metadata": {},
   "outputs": [],
   "source": [
    "df_query25_1 = \"\"\"\n",
    "SELECT\n",
    "    df_prod.Item_Purchased AS 'Item',\n",
    "    df_prod.Gender AS 'Gênero',\n",
    "    CASE\n",
    "        WHEN df_prod.Age <= 25 THEN 'Jovem'\n",
    "        WHEN df_prod.Age > 25 THEN 'Adulto'\n",
    "    END AS 'Faixa etária',\n",
    "    COUNT(df_prod.Item_Purchased) as 'Nº de itens',\n",
    "    (COUNT(df_prod.Item_Purchased)*100 / (SELECT COUNT(df_prod.Item_Purchased) FROM df_prod WHERE LOWER(df_prod.Gender) = \"male\" AND df_prod.Age > 25)) as '(%) do Item'\n",
    "FROM df_prod\n",
    "WHERE LOWER(Gênero) = 'male' AND LOWER(\"Faixa etária\") = 'adulto'\n",
    "GROUP BY \"Item\"\n",
    "ORDER BY \"Nº de itens\" DESC\n",
    "LIMIT 10\n",
    "\n",
    "\"\"\"\n",
    "\n",
    "ps.sqldf(df_query25_1)"
   ]
  },
  {
   "cell_type": "code",
   "execution_count": null,
   "id": "40f08d67",
   "metadata": {},
   "outputs": [],
   "source": [
    "df_query25_2 = \"\"\"\n",
    "SELECT\n",
    "    df_prod.Item_Purchased AS 'Item',\n",
    "    df_prod.Gender AS 'Gênero',\n",
    "    CASE\n",
    "        WHEN df_prod.Age <= 25 THEN 'Jovem'\n",
    "        WHEN df_prod.Age > 25 THEN 'Adulto'\n",
    "    END AS 'Faixa etária',\n",
    "    COUNT(df_prod.Item_Purchased) as 'Nº de itens',\n",
    "    (COUNT(df_prod.Item_Purchased)*100 / (SELECT COUNT(df_prod.Item_Purchased) FROM df_prod WHERE LOWER(df_prod.Gender) = \"male\" AND df_prod.Age <= 25)) as '(%) do Item'\n",
    "FROM df_prod\n",
    "WHERE LOWER(Gênero) = 'male' AND LOWER(\"Faixa etária\") = 'jovem'\n",
    "GROUP BY \"Item\"\n",
    "ORDER BY \"Nº de itens\" DESC\n",
    "LIMIT 10\n",
    "\n",
    "\n",
    "\"\"\"\n",
    "\n",
    "ps.sqldf(df_query25_2)"
   ]
  },
  {
   "cell_type": "markdown",
   "id": "38b6c28d",
   "metadata": {},
   "source": [
    "- De acordo com o dados, foi visto que o público masculino adulto, usuários maiores de 25 anos, compram mais itens em relação aos jovens e possuem um gosto na escolha dos itens diferentes! \n",
    "\n",
    "<j>\n",
    "\n",
    "- Os adultos costumam comprar mais joias e calças, enquanto que os jovens costumam comprar, principalmente, sueters e saias, sendo este como um possivel presente para, mãe, irmã ou namorada! "
   ]
  },
  {
   "cell_type": "markdown",
   "id": "53305272",
   "metadata": {},
   "source": [
    "    - 7.2 Em relação ao público feminino:"
   ]
  },
  {
   "cell_type": "markdown",
   "id": "7e656736",
   "metadata": {},
   "source": [
    "**Código em Pandas:**"
   ]
  },
  {
   "cell_type": "code",
   "execution_count": null,
   "id": "0f5f421e",
   "metadata": {},
   "outputs": [],
   "source": [
    "df_item_adultfemale = df_item.query('Gender == \"Female\" & Fase == \"Adulto\"').value_counts().reset_index().\\\n",
    "rename(columns={'Item_Purchased' : 'Item', 'Gender' : 'Gênero', 'Fase' : 'Faixa etária', 'count' : 'Nº de itens'})\n",
    "\n",
    "df_item_adultfemale['% do item'] = round(df_item_adultfemale['Nº de itens'] / sum(df_item_adultfemale['Nº de itens'])*100,2)\n",
    "\n",
    "df_item_adultfemale.head(10)"
   ]
  },
  {
   "cell_type": "code",
   "execution_count": null,
   "id": "ba5eee40",
   "metadata": {},
   "outputs": [],
   "source": [
    "df_item_jovemfemale = df_item.query('Gender == \"Female\" & Fase == \"Jovem\"').value_counts().reset_index().\\\n",
    "rename(columns={'Item_Purchased' : 'Item', 'Gender' : 'Gênero', 'Fase' : 'Faixa etária', 'count' : 'Nº de itens'})\n",
    "\n",
    "df_item_jovemfemale['% do item'] = round(df_item_jovemfemale['Nº de itens'] / sum(df_item_jovemfemale['Nº de itens'])*100,2)\n",
    "\n",
    "df_item_jovemfemale.head(10)"
   ]
  },
  {
   "cell_type": "markdown",
   "id": "c1b8cfa8",
   "metadata": {},
   "source": [
    "**Código em SQL:**"
   ]
  },
  {
   "cell_type": "code",
   "execution_count": null,
   "id": "87da1404",
   "metadata": {},
   "outputs": [],
   "source": [
    "df_query26_1 = \"\"\"\n",
    "SELECT\n",
    "    df_prod.Item_Purchased AS 'Item',\n",
    "    df_prod.Gender AS 'Gênero',\n",
    "    CASE\n",
    "        WHEN df_prod.Age <= 25 THEN 'Jovem'\n",
    "        WHEN df_prod.Age > 25 THEN 'Adulto'\n",
    "    END AS 'Faixa etária',\n",
    "    COUNT(df_prod.Item_Purchased) as 'Nº de itens',\n",
    "    (COUNT(df_prod.Item_Purchased)*100 / (SELECT COUNT(df_prod.Item_Purchased) FROM df_prod WHERE LOWER(df_prod.Gender) = \"female\" AND df_prod.Age > 25)) as '(%) do Item'\n",
    "FROM df_prod\n",
    "WHERE LOWER(Gênero) = 'female' AND LOWER(\"Faixa etária\") = 'adulto'\n",
    "GROUP BY \"Item\"\n",
    "ORDER BY \"Nº de itens\" DESC\n",
    "LIMIT 10\n",
    "\n",
    "\n",
    "\"\"\"\n",
    "\n",
    "ps.sqldf(df_query26_1)"
   ]
  },
  {
   "cell_type": "code",
   "execution_count": null,
   "id": "771acc68",
   "metadata": {},
   "outputs": [],
   "source": [
    "df_query26_2 = \"\"\"\n",
    "SELECT\n",
    "    df_prod.Item_Purchased AS 'Item',\n",
    "    df_prod.Gender AS 'Gênero',\n",
    "    CASE\n",
    "        WHEN df_prod.Age <= 25 THEN 'Jovem'\n",
    "        WHEN df_prod.Age > 25 THEN 'Adulto'\n",
    "    END AS 'Faixa etária',\n",
    "    COUNT(df_prod.Item_Purchased) as 'Nº de itens',\n",
    "    (COUNT(df_prod.Item_Purchased)*100 / (SELECT COUNT(df_prod.Item_Purchased) FROM df_prod WHERE LOWER(df_prod.Gender) = \"female\" AND df_prod.Age <= 25)) as '(%) do Item'\n",
    "FROM df_prod\n",
    "WHERE LOWER(Gênero) = 'female' AND LOWER(\"Faixa etária\") = 'jovem'\n",
    "GROUP BY \"Item\"\n",
    "ORDER BY \"Nº de itens\" DESC\n",
    "LIMIT 10\n",
    "\n",
    "\"\"\"\n",
    "\n",
    "ps.sqldf(df_query26_2)"
   ]
  },
  {
   "cell_type": "markdown",
   "id": "dc06d5ec",
   "metadata": {},
   "source": [
    "- De acordo com o dados, foi visto que o público feminino adulto, usuárias maiores de 25 anos, compram mais itens em relação às jovens e possuem um gosto na escolha dos itens diferentes! \n",
    "\n",
    "\n",
    "<j>\n",
    "\n",
    "\n",
    "- As adultas costumam comprar mais blusas e saias, enquanto que as jovens costumam comprar, principalmente, shorts, tênis e sueters e blusas!"
   ]
  },
  {
   "cell_type": "markdown",
   "id": "97bf17db",
   "metadata": {},
   "source": [
    "> **Usuários adultos tendem a gastar mais que os jovens, independentemente do gênero, o que pode estar associado ao maior poder aquisitivos dos adultos. Sabendo disto, pode-se tentar desenvolver ofertas que busquem atrair mais o público jovem, como descontos para primeira compra em cada loja, realizar campanhas de marketing que famosos cujo público alvo são os jovens, como blogueiras de moda, TikTokers, atores e atrizes de séries em alta, buscando despertar neste público jovem uma aproximação com seus ídolos por meio do produto apresentado por essas celebridades!**"
   ]
  },
  {
   "cell_type": "markdown",
   "id": "7080c075",
   "metadata": {},
   "source": [
    "_________________"
   ]
  },
  {
   "cell_type": "markdown",
   "id": "8b91b9c1",
   "metadata": {},
   "source": [
    "_________________"
   ]
  },
  {
   "cell_type": "markdown",
   "id": "cac95637",
   "metadata": {},
   "source": [
    "#### Pergunta 08:\n",
    "#### Qual é o perfil de compra dos usuários não assinantes em relação àqueles que são assinantes? "
   ]
  },
  {
   "cell_type": "markdown",
   "id": "229a9a6f",
   "metadata": {},
   "source": [
    "    - 8.1 Perfil dos usuários assinantes:"
   ]
  },
  {
   "cell_type": "markdown",
   "id": "79f720e0",
   "metadata": {},
   "source": [
    "**Código em Pandas:**"
   ]
  },
  {
   "cell_type": "code",
   "execution_count": null,
   "id": "d6c967a3",
   "metadata": {},
   "outputs": [],
   "source": [
    "df_users_pandas[['Age','Purchase_Amount_(USD)','Subscription_Status']].query('Subscription_Status == \"Yes\"').describe().T.\\\n",
    "rename(columns={'count' : 'Nº de usuários', \n",
    "                'mean' : 'Média', 'std':'Desvio Padrão',\n",
    "                'min' : 'Valor mínimo', 'max' : 'Valor máximo'},\n",
    "      index={'Age' : 'Idade', 'Purchase_Amount_(USD)' : 'Montante gasto ($)'})"
   ]
  },
  {
   "cell_type": "code",
   "execution_count": null,
   "id": "f8e37f14",
   "metadata": {},
   "outputs": [],
   "source": [
    "df_perfil_sim = df_users_pandas[['Gender','Subscription_Status']].query('Subscription_Status == \"Yes\"').\\\n",
    "value_counts().reset_index().rename(columns={'Gender' : 'Gênero dos usuários', 'Subscription_Status' : 'Assinantes',\n",
    "                                             'count' : 'Nº de usuários'})\n",
    "\n",
    "df_perfil_sim['% dos usuários'] = round(df_perfil_sim['Nº de usuários'] / sum(df_perfil_sim['Nº de usuários'])*100,2)\n",
    "\n",
    "df_perfil_sim"
   ]
  },
  {
   "cell_type": "code",
   "execution_count": null,
   "id": "0900d376",
   "metadata": {},
   "outputs": [],
   "source": [
    "df_users_pandas[['Category','Purchase_Amount_(USD)','Subscription_Status']].query('Subscription_Status == \"Yes\"').\\\n",
    "groupby('Category').describe().rename(columns={'count' : 'Nº de usuários', \n",
    "                'mean' : 'Média', 'std':'Desvio Padrão',\n",
    "                'min' : 'Valor mínimo', 'max' : 'Valor máximo'}).sort_values(by=[('Purchase_Amount_(USD)', 'Média')],ascending=False)"
   ]
  },
  {
   "cell_type": "code",
   "execution_count": null,
   "id": "807fd033",
   "metadata": {},
   "outputs": [],
   "source": [
    "df_users_pandas[['Location','Purchase_Amount_(USD)','Subscription_Status']].query('Subscription_Status == \"Yes\"').\\\n",
    "groupby('Location').describe().rename(columns={'count' : 'Nº de usuários', \n",
    "                'mean' : 'Média', 'std':'Desvio Padrão',\n",
    "                'min' : 'Valor mínimo', 'max' : 'Valor máximo'}).sort_values(by=[('Purchase_Amount_(USD)', 'Nº de usuários')],ascending=False).\\\n",
    "head(10)"
   ]
  },
  {
   "cell_type": "code",
   "execution_count": null,
   "id": "5c171852",
   "metadata": {},
   "outputs": [],
   "source": [
    "df_users_pandas[['Location','Purchase_Amount_(USD)','Subscription_Status']].query('Subscription_Status == \"Yes\"').\\\n",
    "groupby('Location').describe().rename(columns={'count' : 'Nº de usuários', \n",
    "                'mean' : 'Média', 'std':'Desvio Padrão',\n",
    "                'min' : 'Valor mínimo', 'max' : 'Valor máximo'}).sort_values(by=[('Purchase_Amount_(USD)', 'Média')],ascending=False).\\\n",
    "head(10)"
   ]
  },
  {
   "cell_type": "markdown",
   "id": "c8d994d4",
   "metadata": {},
   "source": [
    "**Código em SQL:**"
   ]
  },
  {
   "cell_type": "code",
   "execution_count": null,
   "id": "fdf42e98",
   "metadata": {},
   "outputs": [],
   "source": [
    "df_query27_1 = \"\"\"\n",
    "SELECT CASE\n",
    "            WHEN df_info.Subscription_Status = 'Yes' THEN 'Sim'\n",
    "            END AS 'Assinantes',\n",
    "       COUNT(df_prod.Age) as 'Nº de usuários',\n",
    "       MIN(df_prod.Age) as 'Idade mínima',\n",
    "       AVG(df_prod.Age) as 'Média de idade',\n",
    "       MAX(df_prod.Age) as 'Idade máxima',\n",
    "       MIN(\"Purchase_Amount_(USD)\") as 'Montante gasto mínimo($)',\n",
    "       AVG(\"Purchase_Amount_(USD)\") as 'Montante gasto médio($)',\n",
    "       MAX(\"Purchase_Amount_(USD)\") as 'Montante gasto máximo($)'\n",
    "FROM df_prod\n",
    "INNER JOIN df_info\n",
    "ON df_info.Customer_ID = df_prod.Customer_ID\n",
    "WHERE LOWER(Assinantes) = 'sim'\n",
    "    \n",
    "\n",
    "\"\"\"\n",
    "\n",
    "ps.sqldf(df_query27_1)"
   ]
  },
  {
   "cell_type": "code",
   "execution_count": null,
   "id": "9a6f4c90",
   "metadata": {},
   "outputs": [],
   "source": [
    "df_query27_2 = \"\"\"\n",
    "SELECT  df_prod.Gender AS 'Gênero dos usuários',\n",
    "        CASE\n",
    "            WHEN df_info.Subscription_Status = 'Yes' THEN 'Sim'\n",
    "            END AS 'Assinantes',\n",
    "        COUNT(df_info.Subscription_Status) as 'Nº de usuários',\n",
    "        (COUNT(df_info.Subscription_Status)*100 / (SELECT COUNT(df_info.Subscription_Status) FROM df_info WHERE LOWER(df_info.Subscription_Status) = 'yes')) as '% dos usuários'\n",
    "FROM df_info\n",
    "INNER JOIN df_prod\n",
    "ON df_info.Customer_ID = df_prod.Customer_ID\n",
    "WHERE LOWER(Assinantes) = 'sim'\n",
    " \n",
    "\n",
    "\"\"\"\n",
    "\n",
    "ps.sqldf(df_query27_2)"
   ]
  },
  {
   "cell_type": "code",
   "execution_count": null,
   "id": "f699a307",
   "metadata": {},
   "outputs": [],
   "source": [
    "df_query27_3 = \"\"\"\n",
    "SELECT  df_prod.Category as 'Categoria dos Itens',\n",
    "        CASE\n",
    "            WHEN df_info.Subscription_Status = 'Yes' THEN 'Sim'\n",
    "            END AS 'Assinantes',\n",
    "        COUNT(df_prod.Category) as 'Nº de usuários',\n",
    "        AVG(\"Purchase_Amount_(USD)\") as 'Média de gastos($)',\n",
    "        MIN(\"Purchase_Amount_(USD)\") as 'Valor mínimo($)',\n",
    "        MAX(\"Purchase_Amount_(USD)\") as 'Valor máximo($)'\n",
    "FROM df_prod\n",
    "INNER JOIN df_info\n",
    "ON df_prod.Customer_ID = df_info.Customer_ID\n",
    "WHERE LOWER(Assinantes) = 'sim'\n",
    "GROUP BY \"Categoria dos Itens\"\n",
    "ORDER BY \"Média de gastos($)\" DESC\n",
    " \n",
    "\n",
    "\"\"\"\n",
    "\n",
    "ps.sqldf(df_query27_3)"
   ]
  },
  {
   "cell_type": "code",
   "execution_count": null,
   "id": "e11bd853",
   "metadata": {},
   "outputs": [],
   "source": [
    "df_query27_4 = \"\"\"\n",
    "SELECT  df_info.Location as 'Estado dos usuários',\n",
    "        CASE\n",
    "            WHEN df_info.Subscription_Status = 'Yes' THEN 'Sim'\n",
    "            END AS 'Assinantes',\n",
    "        COUNT(df_info.Location) as 'Nº de usuários',\n",
    "        AVG(\"Purchase_Amount_(USD)\") as 'Média de gastos($)',\n",
    "        MIN(\"Purchase_Amount_(USD)\") as 'Valor mínimo($)',\n",
    "        MAX(\"Purchase_Amount_(USD)\") as 'Valor máximo($)'\n",
    "FROM df_prod\n",
    "INNER JOIN df_info\n",
    "ON df_prod.Customer_ID = df_info.Customer_ID\n",
    "WHERE LOWER(Assinantes) = 'sim'\n",
    "GROUP BY \"Estado dos usuários\"\n",
    "ORDER BY \"Nº de usuários\" DESC\n",
    " \n",
    "\n",
    "\"\"\"\n",
    "\n",
    "ps.sqldf(df_query27_4)"
   ]
  },
  {
   "cell_type": "code",
   "execution_count": null,
   "id": "c61e76c2",
   "metadata": {},
   "outputs": [],
   "source": [
    "df_query27_5 = \"\"\"\n",
    "SELECT  df_info.Location as 'Estado dos usuários',\n",
    "        CASE\n",
    "            WHEN df_info.Subscription_Status = 'Yes' THEN 'Sim'\n",
    "            END AS 'Assinantes',\n",
    "        COUNT(df_info.Location) as 'Nº de usuários',\n",
    "        AVG(\"Purchase_Amount_(USD)\") as 'Média de gastos($)',\n",
    "        MIN(\"Purchase_Amount_(USD)\") as 'Valor mínimo($)',\n",
    "        MAX(\"Purchase_Amount_(USD)\") as 'Valor máximo($)'\n",
    "FROM df_prod\n",
    "INNER JOIN df_info\n",
    "ON df_prod.Customer_ID = df_info.Customer_ID\n",
    "WHERE LOWER(Assinantes) = 'sim'\n",
    "GROUP BY \"Estado dos usuários\"\n",
    "ORDER BY \"Média de gastos($)\" DESC\n",
    " \n",
    "\n",
    "\"\"\"\n",
    "\n",
    "ps.sqldf(df_query27_5)"
   ]
  },
  {
   "cell_type": "markdown",
   "id": "92424fdd",
   "metadata": {},
   "source": [
    "- Após a realização das análise, foi visto que o perfil dos usuários assinantes conta com um **total de 1053 indivíduos**, dentre os quais **todos são homens** cuja **média de idade é de 44 anos**, e uma **média de gastos de 59 dólares** em produtos.\n",
    "\n",
    "\n",
    "<j>\n",
    "\n",
    "\n",
    "- Os assinantes possuem uma **média de gastos maior na categoria de FootWear (calçados), totalizando  60,46 dólares** e uma **menor média de gastos na categoria de Outerwear (agasalhos), com 58,65 dólares**. No entanto, o maior e menor número de usuários realizam compras, respectivamente, na categoria Clothing (vestuários), totalizando 457 indivíduos e Outerwear (agasalhos) totalizando 91 indivíduos.\n",
    "\n",
    "    \n",
    "<j>\n",
    "\n",
    "    \n",
    "- A **maioria dos assinantes pertencem principalmente aos estados de Nevada, California, West Virginia e Delaware**, com uma faixa de 30 a 28 indivíduos de cada. No entanto, os estados que possuem uma **maior média de gastos são principalmente West Virgínia, Arizona, Idaho e Rhode Island**, e os **menores são New Jersey, Minnesota, Colorado e Connecticut!**"
   ]
  },
  {
   "cell_type": "markdown",
   "id": "2b34897a",
   "metadata": {},
   "source": [
    "    - 8.2 Perfil dos usuários não assinantes:"
   ]
  },
  {
   "cell_type": "markdown",
   "id": "4824f918",
   "metadata": {},
   "source": [
    "**Código em Pandas:**"
   ]
  },
  {
   "cell_type": "code",
   "execution_count": null,
   "id": "f2a32263",
   "metadata": {},
   "outputs": [],
   "source": [
    "df_users_pandas[['Age','Purchase_Amount_(USD)','Subscription_Status']].query('Subscription_Status == \"No\"').describe().T.\\\n",
    "rename(columns={'count' : 'Nº de usuários', \n",
    "                'mean' : 'Média', 'std':'Desvio Padrão',\n",
    "                'min' : 'Valor mínimo', 'max' : 'Valor máximo'},\n",
    "      index={'Age' : 'Idade', 'Purchase_Amount_(USD)' : 'Montante gasto ($)'})"
   ]
  },
  {
   "cell_type": "code",
   "execution_count": null,
   "id": "ddd6ae44",
   "metadata": {},
   "outputs": [],
   "source": [
    "df_perfil_no = df_users_pandas[['Gender','Subscription_Status']].query('Subscription_Status == \"No\"').\\\n",
    "value_counts().reset_index().rename(columns={'Gender' : 'Gênero dos usuários', 'Subscription_Status' : 'Assinantes',\n",
    "                                             'count' : 'Nº de usuários'})\n",
    "\n",
    "df_perfil_no['% dos usuários'] = round(df_perfil_no['Nº de usuários'] / sum(df_perfil_no['Nº de usuários'])*100,2)\n",
    "\n",
    "df_perfil_no"
   ]
  },
  {
   "cell_type": "code",
   "execution_count": null,
   "id": "5e537b77",
   "metadata": {},
   "outputs": [],
   "source": [
    "df_users_pandas[['Category','Purchase_Amount_(USD)','Subscription_Status']].query('Subscription_Status == \"No\"').\\\n",
    "groupby('Category').describe().rename(columns={'count' : 'Nº de usuários', \n",
    "                'mean' : 'Média', 'std':'Desvio Padrão',\n",
    "                'min' : 'Valor mínimo', 'max' : 'Valor máximo'}).sort_values(by=[('Purchase_Amount_(USD)', 'Média')],ascending=False)"
   ]
  },
  {
   "cell_type": "code",
   "execution_count": null,
   "id": "ac456a6d",
   "metadata": {},
   "outputs": [],
   "source": [
    "df_users_pandas[['Location','Purchase_Amount_(USD)','Subscription_Status']].query('Subscription_Status == \"No\"').\\\n",
    "groupby('Location').describe().rename(columns={'count' : 'Nº de usuários', \n",
    "                'mean' : 'Média', 'std':'Desvio Padrão',\n",
    "                'min' : 'Valor mínimo', 'max' : 'Valor máximo'}).sort_values(by=[('Purchase_Amount_(USD)', 'Nº de usuários')],ascending=False).\\\n",
    "head(10)"
   ]
  },
  {
   "cell_type": "code",
   "execution_count": null,
   "id": "75bd7eae",
   "metadata": {},
   "outputs": [],
   "source": [
    "df_users_pandas[['Location','Purchase_Amount_(USD)','Subscription_Status']].query('Subscription_Status == \"No\"').\\\n",
    "groupby('Location').describe().rename(columns={'count' : 'Nº de usuários', \n",
    "                'mean' : 'Média', 'std':'Desvio Padrão',\n",
    "                'min' : 'Valor mínimo', 'max' : 'Valor máximo'}).sort_values(by=[('Purchase_Amount_(USD)', 'Média')],ascending=False).\\\n",
    "head(10)"
   ]
  },
  {
   "cell_type": "markdown",
   "id": "24310456",
   "metadata": {},
   "source": [
    "**Código em SQL:**"
   ]
  },
  {
   "cell_type": "code",
   "execution_count": null,
   "id": "00e878bb",
   "metadata": {},
   "outputs": [],
   "source": [
    "df_query28_1 = \"\"\"\n",
    "SELECT CASE\n",
    "            WHEN df_info.Subscription_Status = 'No' THEN 'Não'\n",
    "            END AS 'Assinantes',\n",
    "       COUNT(df_prod.Age) as 'Nº de usuários',\n",
    "       MIN(df_prod.Age) as 'Idade mínima',\n",
    "       AVG(df_prod.Age) as 'Média de idade',\n",
    "       MAX(df_prod.Age) as 'Idade máxima',\n",
    "       MIN(\"Purchase_Amount_(USD)\") as 'Montante gasto mínimo($)',\n",
    "       AVG(\"Purchase_Amount_(USD)\") as 'Montante gasto médio($)',\n",
    "       MAX(\"Purchase_Amount_(USD)\") as 'Montante gasto máximo($)'\n",
    "FROM df_prod\n",
    "INNER JOIN df_info\n",
    "ON df_info.Customer_ID = df_prod.Customer_ID\n",
    "WHERE LOWER(Assinantes) = 'não'\n",
    "    \n",
    "\n",
    "\"\"\"\n",
    "\n",
    "ps.sqldf(df_query28_1)"
   ]
  },
  {
   "cell_type": "code",
   "execution_count": null,
   "id": "d7efa759",
   "metadata": {},
   "outputs": [],
   "source": [
    "df_query28_2 = \"\"\"\n",
    "SELECT  df_prod.Gender AS 'Gênero dos usuários',\n",
    "        CASE\n",
    "            WHEN df_info.Subscription_Status = 'No' THEN 'Não'\n",
    "            END AS 'Assinantes',\n",
    "        COUNT(df_info.Subscription_Status) as 'Nº de usuários',\n",
    "        (COUNT(df_info.Subscription_Status)*100 / (SELECT COUNT(df_info.Subscription_Status) FROM df_info WHERE LOWER(df_info.Subscription_Status) = 'no')) as '% dos usuários'\n",
    "FROM df_info\n",
    "INNER JOIN df_prod\n",
    "ON df_info.Customer_ID = df_prod.Customer_ID\n",
    "WHERE LOWER(Assinantes) = 'não'\n",
    "GROUP BY \"Gênero dos usuários\"\n",
    "ORDER BY \"Nº de usuários\" DESC\n",
    " \n",
    "\n",
    "\"\"\"\n",
    "\n",
    "ps.sqldf(df_query28_2)"
   ]
  },
  {
   "cell_type": "code",
   "execution_count": null,
   "id": "e0eae4d8",
   "metadata": {},
   "outputs": [],
   "source": [
    "df_query28_3 = \"\"\"\n",
    "SELECT  df_prod.Category as 'Categoria dos Itens',\n",
    "        CASE\n",
    "            WHEN df_info.Subscription_Status = 'No' THEN 'Não'\n",
    "            END AS 'Assinantes',\n",
    "        COUNT(df_prod.Category) as 'Nº de usuários',\n",
    "        AVG(\"Purchase_Amount_(USD)\") as 'Média de gastos($)',\n",
    "        MIN(\"Purchase_Amount_(USD)\") as 'Valor mínimo($)',\n",
    "        MAX(\"Purchase_Amount_(USD)\") as 'Valor máximo($)'\n",
    "FROM df_prod\n",
    "INNER JOIN df_info\n",
    "ON df_prod.Customer_ID = df_info.Customer_ID\n",
    "WHERE LOWER(Assinantes) = 'não'\n",
    "GROUP BY \"Categoria dos Itens\"\n",
    "ORDER BY \"Média de gastos($)\" DESC\n",
    " \n",
    "\n",
    "\"\"\"\n",
    "\n",
    "ps.sqldf(df_query28_3)"
   ]
  },
  {
   "cell_type": "code",
   "execution_count": null,
   "id": "94b936b1",
   "metadata": {},
   "outputs": [],
   "source": [
    "df_query28_4 = \"\"\"\n",
    "SELECT  df_info.Location as 'Estado dos usuários',\n",
    "        CASE\n",
    "            WHEN df_info.Subscription_Status = 'No' THEN 'Não'\n",
    "            END AS 'Assinantes',\n",
    "        COUNT(df_info.Location) as 'Nº de usuários',\n",
    "        AVG(\"Purchase_Amount_(USD)\") as 'Média de gastos($)',\n",
    "        MIN(\"Purchase_Amount_(USD)\") as 'Valor mínimo($)',\n",
    "        MAX(\"Purchase_Amount_(USD)\") as 'Valor máximo($)'\n",
    "FROM df_prod\n",
    "INNER JOIN df_info\n",
    "ON df_prod.Customer_ID = df_info.Customer_ID\n",
    "WHERE LOWER(Assinantes) = 'não'\n",
    "GROUP BY \"Estado dos usuários\"\n",
    "ORDER BY \"Nº de usuários\" DESC\n",
    " \n",
    "\n",
    "\"\"\"\n",
    "\n",
    "ps.sqldf(df_query28_4)"
   ]
  },
  {
   "cell_type": "code",
   "execution_count": null,
   "id": "6b451de6",
   "metadata": {},
   "outputs": [],
   "source": [
    "df_query27_5 = \"\"\"\n",
    "SELECT  df_info.Location as 'Estado dos usuários',\n",
    "        CASE\n",
    "            WHEN df_info.Subscription_Status = 'No' THEN 'Não'\n",
    "            END AS 'Assinantes',\n",
    "        COUNT(df_info.Location) as 'Nº de usuários',\n",
    "        AVG(\"Purchase_Amount_(USD)\") as 'Média de gastos($)',\n",
    "        MIN(\"Purchase_Amount_(USD)\") as 'Valor mínimo($)',\n",
    "        MAX(\"Purchase_Amount_(USD)\") as 'Valor máximo($)'\n",
    "FROM df_prod\n",
    "INNER JOIN df_info\n",
    "ON df_prod.Customer_ID = df_info.Customer_ID\n",
    "WHERE LOWER(Assinantes) = 'não'\n",
    "GROUP BY \"Estado dos usuários\"\n",
    "ORDER BY \"Média de gastos($)\" DESC\n",
    " \n",
    "\n",
    "\"\"\"\n",
    "\n",
    "ps.sqldf(df_query27_5)"
   ]
  },
  {
   "cell_type": "markdown",
   "id": "6acd0f8f",
   "metadata": {},
   "source": [
    "- Após a realização das análise, foi visto que o perfil dos usuários que não são assinantes conta com um **total de 2847 indivíduos**, dentre os quais **56% são homens** e **44% mulheres** cuja **média de idade é de 44 anos**, e uma **média de gastos de 59 dólares** em produtos.\n",
    "\n",
    "\n",
    "<j>\n",
    "\n",
    "\n",
    "- Os não assinantes possuem uma **média de gastos próxima nas categorias de Accessories (acessórios), FootWear (calçados) e Clothing (vestuário), por volta de 60 dólares** e uma **menor média de gastos na categoria de Outerwear (agasalhos), com 56,59 dólares**. No entanto, o maior e menor número de usuários realizam compras, respectivamente, na categoria Clothing (vestuários), totalizando 1280 indivíduos e Outerwear (agasalhos) totalizando 233 indivíduos.\n",
    "\n",
    "    \n",
    "<j>\n",
    "\n",
    "    \n",
    "- A **maioria dos usuários não assinantes pertencem principalmente aos estados de Idaho, Montana, Illinois e Alabama**, com uma faixa de 74 a 67 indivíduos. No entanto, os estados que possuem uma **maior média de gastos são principalmente Alaska, Pennsylvania, Arizona e Washington**, e os **menores são Florida, Oklahoma, Kansas e Delaware!**"
   ]
  },
  {
   "cell_type": "markdown",
   "id": "6a0b8867",
   "metadata": {},
   "source": [
    "> **Observou que todos os assinantes do clube são homens, portanto se faz necessário pensar em atrativos para o clube que busquem interessar o público feminino, como ofertas exclusivas para elas, vantagens em restaurantes ou até mesmos disponibilizar parcerias com outros segmentos, como Turismo e Entreterimento, como descontos ou cortezias.\n",
    "Além disto, visando aumentar a clientela masculina, pode-se estabelecer parcerias com estádios de futebol, seja com entrada cortezia ou descontos na compra do ingresso, além disto, desenvolver em parceria com times de futebol linhas de produto de cada time e vende-las com desconto ou exclusivamente para assinantes do clube, especialmente nas categorias em que eles mais compram, como Calçados e Vestuário!**"
   ]
  }
 ],
 "metadata": {
  "kernelspec": {
   "display_name": "Python 3 (ipykernel)",
   "language": "python",
   "name": "python3"
  },
  "language_info": {
   "codemirror_mode": {
    "name": "ipython",
    "version": 3
   },
   "file_extension": ".py",
   "mimetype": "text/x-python",
   "name": "python",
   "nbconvert_exporter": "python",
   "pygments_lexer": "ipython3",
   "version": "3.11.5"
  }
 },
 "nbformat": 4,
 "nbformat_minor": 5
}
